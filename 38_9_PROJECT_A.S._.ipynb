{
 "cells": [
  {
   "cell_type": "markdown",
   "metadata": {},
   "source": [
    "## 38.9 PROJECT. Исследование поведения пользователей\n",
    "\n",
    "**Постановка задачи**<br>\n",
    "Провести анализ поведения пользователей мобильной игры Quiz Freeze.\n",
    "Необходимо проверить:\n",
    "- есть ли зависимость между выбранным уровнем сложности и вероятностью оплаты;\n",
    "- различается ли временной промежуток между регистрацией и оплатой у групп пользователей с разным уровнем сложности.\n",
    "Выполнять задание необходимо на основе данных пользователей, которые зарегистрировались в 2018 году (с 1 января по 31 декабря 2018 года включительно).\n",
    "\n",
    "**Исходные данные**<br>\n",
    "Два файла - таблицы в формате csv\n",
    "\n",
    "**Обнаруженные несоотетствия**<br>\n",
    "В одной из таблиц были события с некоррекнтой датой. Такие события были удалены в ходе предобработки данных."
   ]
  },
  {
   "cell_type": "markdown",
   "metadata": {},
   "source": [
    "#### Импортируем PANDAS и исходные данные."
   ]
  },
  {
   "cell_type": "code",
   "execution_count": 122,
   "metadata": {},
   "outputs": [],
   "source": [
    "import pandas as pd\n",
    "events_initial = pd.read_csv('C:/New_life/DataAnalytics/Python/38_event_purchase/7_4_Events.csv', sep=',')\n",
    "events = events_initial.copy()\n",
    "purchase_initial = pd.read_csv('C:/New_life/DataAnalytics/Python/38_event_purchase/purchase.csv', sep=',')\n",
    "purchase = purchase_initial.copy()"
   ]
  },
  {
   "cell_type": "markdown",
   "metadata": {},
   "source": [
    "#### ПРЕДОБРАБОТКА ДАННЫХ\n",
    "1) Убрираем в таблицах events строки с некорректными датой/временем. Переводим дату/время в формат datetime.\n",
    "    При попытке перевести данные колонки start_time в таблице events в формат datetime были обнаружены несколько некорректных значений даты-времени. С учетом того, что таких значений крайне мало, а также что они явно не относятся к 2018 году, строки, содержащие такие значения были удалены.\n",
    "2) Оставляем в таблицах только события пользоваетелй с регистрацией в 2018 году"
   ]
  },
  {
   "cell_type": "markdown",
   "metadata": {},
   "source": [
    "##### Убираем в таблице events строки с некорректными датами."
   ]
  },
  {
   "cell_type": "code",
   "execution_count": 123,
   "metadata": {},
   "outputs": [
    {
     "data": {
      "text/plain": [
       "'Посмотрим на исходную таблицу events:'"
      ]
     },
     "metadata": {},
     "output_type": "display_data"
    },
    {
     "data": {
      "text/html": [
       "<div>\n",
       "<style scoped>\n",
       "    .dataframe tbody tr th:only-of-type {\n",
       "        vertical-align: middle;\n",
       "    }\n",
       "\n",
       "    .dataframe tbody tr th {\n",
       "        vertical-align: top;\n",
       "    }\n",
       "\n",
       "    .dataframe thead th {\n",
       "        text-align: right;\n",
       "    }\n",
       "</style>\n",
       "<table border=\"1\" class=\"dataframe\">\n",
       "  <thead>\n",
       "    <tr style=\"text-align: right;\">\n",
       "      <th></th>\n",
       "      <th>id</th>\n",
       "      <th>event_type</th>\n",
       "      <th>selected_level</th>\n",
       "      <th>start_time</th>\n",
       "      <th>tutorial_id</th>\n",
       "      <th>user_id</th>\n",
       "    </tr>\n",
       "  </thead>\n",
       "  <tbody>\n",
       "    <tr>\n",
       "      <th>0</th>\n",
       "      <td>28903</td>\n",
       "      <td>registration</td>\n",
       "      <td>NaN</td>\n",
       "      <td>2016-05-11T23:40:55</td>\n",
       "      <td>NaN</td>\n",
       "      <td>12583</td>\n",
       "    </tr>\n",
       "    <tr>\n",
       "      <th>1</th>\n",
       "      <td>28904</td>\n",
       "      <td>registration</td>\n",
       "      <td>NaN</td>\n",
       "      <td>2016-05-11T23:49:58</td>\n",
       "      <td>NaN</td>\n",
       "      <td>12584</td>\n",
       "    </tr>\n",
       "    <tr>\n",
       "      <th>2</th>\n",
       "      <td>28905</td>\n",
       "      <td>registration</td>\n",
       "      <td>NaN</td>\n",
       "      <td>2016-05-12T00:53:07</td>\n",
       "      <td>NaN</td>\n",
       "      <td>12585</td>\n",
       "    </tr>\n",
       "    <tr>\n",
       "      <th>3</th>\n",
       "      <td>28906</td>\n",
       "      <td>tutorial_start</td>\n",
       "      <td>NaN</td>\n",
       "      <td>2016-05-12T01:32:20</td>\n",
       "      <td>17562.0</td>\n",
       "      <td>12585</td>\n",
       "    </tr>\n",
       "    <tr>\n",
       "      <th>4</th>\n",
       "      <td>28907</td>\n",
       "      <td>tutorial_finish</td>\n",
       "      <td>NaN</td>\n",
       "      <td>2016-05-12T01:34:53</td>\n",
       "      <td>17562.0</td>\n",
       "      <td>12585</td>\n",
       "    </tr>\n",
       "  </tbody>\n",
       "</table>\n",
       "</div>"
      ],
      "text/plain": [
       "      id       event_type selected_level           start_time  tutorial_id  \\\n",
       "0  28903     registration            NaN  2016-05-11T23:40:55          NaN   \n",
       "1  28904     registration            NaN  2016-05-11T23:49:58          NaN   \n",
       "2  28905     registration            NaN  2016-05-12T00:53:07          NaN   \n",
       "3  28906   tutorial_start            NaN  2016-05-12T01:32:20      17562.0   \n",
       "4  28907  tutorial_finish            NaN  2016-05-12T01:34:53      17562.0   \n",
       "\n",
       "   user_id  \n",
       "0    12583  \n",
       "1    12584  \n",
       "2    12585  \n",
       "3    12585  \n",
       "4    12585  "
      ]
     },
     "metadata": {},
     "output_type": "display_data"
    },
    {
     "data": {
      "text/plain": [
       "'Cобытия с некорректной датой/временем:'"
      ]
     },
     "metadata": {},
     "output_type": "display_data"
    },
    {
     "data": {
      "text/html": [
       "<div>\n",
       "<style scoped>\n",
       "    .dataframe tbody tr th:only-of-type {\n",
       "        vertical-align: middle;\n",
       "    }\n",
       "\n",
       "    .dataframe tbody tr th {\n",
       "        vertical-align: top;\n",
       "    }\n",
       "\n",
       "    .dataframe thead th {\n",
       "        text-align: right;\n",
       "    }\n",
       "</style>\n",
       "<table border=\"1\" class=\"dataframe\">\n",
       "  <thead>\n",
       "    <tr style=\"text-align: right;\">\n",
       "      <th></th>\n",
       "      <th>id</th>\n",
       "      <th>event_type</th>\n",
       "      <th>selected_level</th>\n",
       "      <th>start_time</th>\n",
       "      <th>tutorial_id</th>\n",
       "      <th>user_id</th>\n",
       "      <th>wrong_start_time</th>\n",
       "    </tr>\n",
       "  </thead>\n",
       "  <tbody>\n",
       "    <tr>\n",
       "      <th>10981</th>\n",
       "      <td>39884</td>\n",
       "      <td>registration</td>\n",
       "      <td>NaN</td>\n",
       "      <td>20162015-09-18</td>\n",
       "      <td>NaN</td>\n",
       "      <td>15879</td>\n",
       "      <td>wrong date time</td>\n",
       "    </tr>\n",
       "    <tr>\n",
       "      <th>19423</th>\n",
       "      <td>48326</td>\n",
       "      <td>tutorial_start</td>\n",
       "      <td>NaN</td>\n",
       "      <td>2017-02-29 00:49:14</td>\n",
       "      <td>22840.0</td>\n",
       "      <td>18407</td>\n",
       "      <td>wrong date time</td>\n",
       "    </tr>\n",
       "    <tr>\n",
       "      <th>19424</th>\n",
       "      <td>48327</td>\n",
       "      <td>level_choice</td>\n",
       "      <td>medium</td>\n",
       "      <td>2017-02-29 02:23:01</td>\n",
       "      <td>NaN</td>\n",
       "      <td>18396</td>\n",
       "      <td>wrong date time</td>\n",
       "    </tr>\n",
       "    <tr>\n",
       "      <th>19425</th>\n",
       "      <td>48328</td>\n",
       "      <td>pack_choice</td>\n",
       "      <td>NaN</td>\n",
       "      <td>2017-02-29 02:27:59</td>\n",
       "      <td>NaN</td>\n",
       "      <td>18396</td>\n",
       "      <td>wrong date time</td>\n",
       "    </tr>\n",
       "    <tr>\n",
       "      <th>19426</th>\n",
       "      <td>48329</td>\n",
       "      <td>tutorial_start</td>\n",
       "      <td>NaN</td>\n",
       "      <td>2017-02-29 02:58:03</td>\n",
       "      <td>22841.0</td>\n",
       "      <td>18403</td>\n",
       "      <td>wrong date time</td>\n",
       "    </tr>\n",
       "  </tbody>\n",
       "</table>\n",
       "</div>"
      ],
      "text/plain": [
       "          id      event_type selected_level           start_time  tutorial_id  \\\n",
       "10981  39884    registration            NaN       20162015-09-18          NaN   \n",
       "19423  48326  tutorial_start            NaN  2017-02-29 00:49:14      22840.0   \n",
       "19424  48327    level_choice         medium  2017-02-29 02:23:01          NaN   \n",
       "19425  48328     pack_choice            NaN  2017-02-29 02:27:59          NaN   \n",
       "19426  48329  tutorial_start            NaN  2017-02-29 02:58:03      22841.0   \n",
       "\n",
       "       user_id wrong_start_time  \n",
       "10981    15879  wrong date time  \n",
       "19423    18407  wrong date time  \n",
       "19424    18396  wrong date time  \n",
       "19425    18396  wrong date time  \n",
       "19426    18403  wrong date time  "
      ]
     },
     "metadata": {},
     "output_type": "display_data"
    },
    {
     "name": "stdout",
     "output_type": "stream",
     "text": [
      "Cколько событий с некорректной датой/временем? - 133\n",
      "Cколько событий всего? - 252334\n"
     ]
    }
   ],
   "source": [
    "display('Посмотрим на исходную таблицу events:', events.head())    # Формат колонки с временем событий - 2016-05-11T23:40:55\n",
    "def remove_t(start_time):   # функция удаления буквы \"Т\", разделяющей дату и время в исходных данных\n",
    "    good_time=start_time.replace('T',' ')\n",
    "    return good_time\n",
    "events['start_time']=events['start_time'].apply(remove_t)\n",
    "\n",
    "# При попытке перевести колонку в формат datetime выдавались ошибки, связанные с некорректным значением даты/времени\n",
    "def find_wrong(start_time):     # функция определения неверных даты-времени (недостаток цифр или дата - 29 февраля \n",
    "                                # невискостного года)\n",
    "    if len(start_time) != 19:\n",
    "        return 'wrong date time' \n",
    "    elif start_time[5:7] == '02' and int(start_time[8:10]) > 28:\n",
    "        if int(start_time[:4])%4 != 0:\n",
    "            return 'wrong date time'\n",
    "        elif int(start_time[:3])%100 == 0 and int(start_time[:3])%400 != 0:\n",
    "            return 'wrong date time'\n",
    "\n",
    "events['wrong_start_time']=events['start_time'].apply(find_wrong)   # добавляем колонку-флаг некорректности даты-времени\n",
    "display(\"Cобытия с некорректной датой/временем:\", events[events['wrong_start_time'] == 'wrong date time'].head())\n",
    "print(\"Cколько событий с некорректной датой/временем? -\", events[events['wrong_start_time'] == 'wrong date time'].shape[0])\n",
    "print(\"Cколько событий всего? -\", events.shape[0])\n",
    "# Можно удалить событися без нарушения релевантности данных.\n",
    "events=events[events['wrong_start_time'] != 'wrong date time'] \n",
    "events.drop(labels='wrong_start_time',axis=1, inplace=True)"
   ]
  },
  {
   "cell_type": "markdown",
   "metadata": {},
   "source": [
    "##### Переводим колонку start_time в events в datetime формат "
   ]
  },
  {
   "cell_type": "code",
   "execution_count": 124,
   "metadata": {},
   "outputs": [
    {
     "data": {
      "text/plain": [
       "'Обработанная таблица  events:'"
      ]
     },
     "metadata": {},
     "output_type": "display_data"
    },
    {
     "data": {
      "text/html": [
       "<div>\n",
       "<style scoped>\n",
       "    .dataframe tbody tr th:only-of-type {\n",
       "        vertical-align: middle;\n",
       "    }\n",
       "\n",
       "    .dataframe tbody tr th {\n",
       "        vertical-align: top;\n",
       "    }\n",
       "\n",
       "    .dataframe thead th {\n",
       "        text-align: right;\n",
       "    }\n",
       "</style>\n",
       "<table border=\"1\" class=\"dataframe\">\n",
       "  <thead>\n",
       "    <tr style=\"text-align: right;\">\n",
       "      <th></th>\n",
       "      <th>id</th>\n",
       "      <th>event_type</th>\n",
       "      <th>selected_level</th>\n",
       "      <th>start_time</th>\n",
       "      <th>tutorial_id</th>\n",
       "      <th>user_id</th>\n",
       "    </tr>\n",
       "  </thead>\n",
       "  <tbody>\n",
       "    <tr>\n",
       "      <th>0</th>\n",
       "      <td>28903</td>\n",
       "      <td>registration</td>\n",
       "      <td>NaN</td>\n",
       "      <td>2016-05-11 23:40:55</td>\n",
       "      <td>NaN</td>\n",
       "      <td>12583</td>\n",
       "    </tr>\n",
       "    <tr>\n",
       "      <th>1</th>\n",
       "      <td>28904</td>\n",
       "      <td>registration</td>\n",
       "      <td>NaN</td>\n",
       "      <td>2016-05-11 23:49:58</td>\n",
       "      <td>NaN</td>\n",
       "      <td>12584</td>\n",
       "    </tr>\n",
       "    <tr>\n",
       "      <th>2</th>\n",
       "      <td>28905</td>\n",
       "      <td>registration</td>\n",
       "      <td>NaN</td>\n",
       "      <td>2016-05-12 00:53:07</td>\n",
       "      <td>NaN</td>\n",
       "      <td>12585</td>\n",
       "    </tr>\n",
       "    <tr>\n",
       "      <th>3</th>\n",
       "      <td>28906</td>\n",
       "      <td>tutorial_start</td>\n",
       "      <td>NaN</td>\n",
       "      <td>2016-05-12 01:32:20</td>\n",
       "      <td>17562.0</td>\n",
       "      <td>12585</td>\n",
       "    </tr>\n",
       "    <tr>\n",
       "      <th>4</th>\n",
       "      <td>28907</td>\n",
       "      <td>tutorial_finish</td>\n",
       "      <td>NaN</td>\n",
       "      <td>2016-05-12 01:34:53</td>\n",
       "      <td>17562.0</td>\n",
       "      <td>12585</td>\n",
       "    </tr>\n",
       "  </tbody>\n",
       "</table>\n",
       "</div>"
      ],
      "text/plain": [
       "      id       event_type selected_level          start_time  tutorial_id  \\\n",
       "0  28903     registration            NaN 2016-05-11 23:40:55          NaN   \n",
       "1  28904     registration            NaN 2016-05-11 23:49:58          NaN   \n",
       "2  28905     registration            NaN 2016-05-12 00:53:07          NaN   \n",
       "3  28906   tutorial_start            NaN 2016-05-12 01:32:20      17562.0   \n",
       "4  28907  tutorial_finish            NaN 2016-05-12 01:34:53      17562.0   \n",
       "\n",
       "   user_id  \n",
       "0    12583  \n",
       "1    12584  \n",
       "2    12585  \n",
       "3    12585  \n",
       "4    12585  "
      ]
     },
     "metadata": {},
     "output_type": "display_data"
    }
   ],
   "source": [
    "events['start_time']=pd.to_datetime(events['start_time'])\n",
    "display(\"Обработанная таблица  events:\", events.head())"
   ]
  },
  {
   "cell_type": "markdown",
   "metadata": {},
   "source": [
    "##### Оставляем в таблице events только события пользоваетелй с регистрацией в 2018 году -> новая таблица events_users_reg2018"
   ]
  },
  {
   "cell_type": "code",
   "execution_count": 125,
   "metadata": {},
   "outputs": [
    {
     "data": {
      "text/html": [
       "<div>\n",
       "<style scoped>\n",
       "    .dataframe tbody tr th:only-of-type {\n",
       "        vertical-align: middle;\n",
       "    }\n",
       "\n",
       "    .dataframe tbody tr th {\n",
       "        vertical-align: top;\n",
       "    }\n",
       "\n",
       "    .dataframe thead th {\n",
       "        text-align: right;\n",
       "    }\n",
       "</style>\n",
       "<table border=\"1\" class=\"dataframe\">\n",
       "  <thead>\n",
       "    <tr style=\"text-align: right;\">\n",
       "      <th></th>\n",
       "      <th>user_id</th>\n",
       "      <th>id</th>\n",
       "      <th>event_type</th>\n",
       "      <th>selected_level</th>\n",
       "      <th>start_time</th>\n",
       "      <th>tutorial_id</th>\n",
       "    </tr>\n",
       "  </thead>\n",
       "  <tbody>\n",
       "    <tr>\n",
       "      <th>0</th>\n",
       "      <td>27832</td>\n",
       "      <td>80308</td>\n",
       "      <td>registration</td>\n",
       "      <td>NaN</td>\n",
       "      <td>2018-01-01 03:48:40</td>\n",
       "      <td>NaN</td>\n",
       "    </tr>\n",
       "    <tr>\n",
       "      <th>1</th>\n",
       "      <td>27833</td>\n",
       "      <td>80309</td>\n",
       "      <td>registration</td>\n",
       "      <td>NaN</td>\n",
       "      <td>2018-01-01 04:07:25</td>\n",
       "      <td>NaN</td>\n",
       "    </tr>\n",
       "    <tr>\n",
       "      <th>2</th>\n",
       "      <td>27833</td>\n",
       "      <td>80320</td>\n",
       "      <td>tutorial_start</td>\n",
       "      <td>NaN</td>\n",
       "      <td>2018-01-01 17:47:40</td>\n",
       "      <td>31508.0</td>\n",
       "    </tr>\n",
       "    <tr>\n",
       "      <th>3</th>\n",
       "      <td>27833</td>\n",
       "      <td>80321</td>\n",
       "      <td>tutorial_finish</td>\n",
       "      <td>NaN</td>\n",
       "      <td>2018-01-01 17:50:08</td>\n",
       "      <td>31508.0</td>\n",
       "    </tr>\n",
       "    <tr>\n",
       "      <th>4</th>\n",
       "      <td>27834</td>\n",
       "      <td>80310</td>\n",
       "      <td>registration</td>\n",
       "      <td>NaN</td>\n",
       "      <td>2018-01-01 08:35:10</td>\n",
       "      <td>NaN</td>\n",
       "    </tr>\n",
       "  </tbody>\n",
       "</table>\n",
       "</div>"
      ],
      "text/plain": [
       "   user_id     id       event_type selected_level          start_time  \\\n",
       "0    27832  80308     registration            NaN 2018-01-01 03:48:40   \n",
       "1    27833  80309     registration            NaN 2018-01-01 04:07:25   \n",
       "2    27833  80320   tutorial_start            NaN 2018-01-01 17:47:40   \n",
       "3    27833  80321  tutorial_finish            NaN 2018-01-01 17:50:08   \n",
       "4    27834  80310     registration            NaN 2018-01-01 08:35:10   \n",
       "\n",
       "   tutorial_id  \n",
       "0          NaN  \n",
       "1          NaN  \n",
       "2      31508.0  \n",
       "3      31508.0  \n",
       "4          NaN  "
      ]
     },
     "metadata": {},
     "output_type": "display_data"
    }
   ],
   "source": [
    "users_reg2018=events[(events['start_time'].dt.year == 2018) & (events['event_type'] == \n",
    "    'registration')]['user_id'].drop_duplicates()   # перечень пользователей с регстрацией в 2018 году\n",
    "users_reg2018=pd.DataFrame(data=users_reg2018)   \n",
    "events_user_reg2018=users_reg2018.merge(events,how='left',on='user_id')\n",
    "display(events_user_reg2018.head())"
   ]
  },
  {
   "cell_type": "markdown",
   "metadata": {},
   "source": [
    "##### Переводим колонку event_datetime в purchase в datetime формат "
   ]
  },
  {
   "cell_type": "code",
   "execution_count": 126,
   "metadata": {},
   "outputs": [
    {
     "data": {
      "text/plain": [
       "'Посмотрим на исходную таблицу purchase:'"
      ]
     },
     "metadata": {},
     "output_type": "display_data"
    },
    {
     "data": {
      "text/html": [
       "<div>\n",
       "<style scoped>\n",
       "    .dataframe tbody tr th:only-of-type {\n",
       "        vertical-align: middle;\n",
       "    }\n",
       "\n",
       "    .dataframe tbody tr th {\n",
       "        vertical-align: top;\n",
       "    }\n",
       "\n",
       "    .dataframe thead th {\n",
       "        text-align: right;\n",
       "    }\n",
       "</style>\n",
       "<table border=\"1\" class=\"dataframe\">\n",
       "  <thead>\n",
       "    <tr style=\"text-align: right;\">\n",
       "      <th></th>\n",
       "      <th>id</th>\n",
       "      <th>user_id</th>\n",
       "      <th>event_datetime</th>\n",
       "      <th>amount</th>\n",
       "    </tr>\n",
       "  </thead>\n",
       "  <tbody>\n",
       "    <tr>\n",
       "      <th>0</th>\n",
       "      <td>15674</td>\n",
       "      <td>12584</td>\n",
       "      <td>2016-05-12T10:34:16</td>\n",
       "      <td>100</td>\n",
       "    </tr>\n",
       "    <tr>\n",
       "      <th>1</th>\n",
       "      <td>15675</td>\n",
       "      <td>12985</td>\n",
       "      <td>2016-05-13T08:25:56</td>\n",
       "      <td>50</td>\n",
       "    </tr>\n",
       "    <tr>\n",
       "      <th>2</th>\n",
       "      <td>15676</td>\n",
       "      <td>12828</td>\n",
       "      <td>2016-05-13T16:33:46</td>\n",
       "      <td>50</td>\n",
       "    </tr>\n",
       "    <tr>\n",
       "      <th>3</th>\n",
       "      <td>15677</td>\n",
       "      <td>12598</td>\n",
       "      <td>2016-05-14T01:09:37</td>\n",
       "      <td>150</td>\n",
       "    </tr>\n",
       "    <tr>\n",
       "      <th>4</th>\n",
       "      <td>15678</td>\n",
       "      <td>13037</td>\n",
       "      <td>2016-05-14T01:24:46</td>\n",
       "      <td>100</td>\n",
       "    </tr>\n",
       "  </tbody>\n",
       "</table>\n",
       "</div>"
      ],
      "text/plain": [
       "      id  user_id       event_datetime  amount\n",
       "0  15674    12584  2016-05-12T10:34:16     100\n",
       "1  15675    12985  2016-05-13T08:25:56      50\n",
       "2  15676    12828  2016-05-13T16:33:46      50\n",
       "3  15677    12598  2016-05-14T01:09:37     150\n",
       "4  15678    13037  2016-05-14T01:24:46     100"
      ]
     },
     "metadata": {},
     "output_type": "display_data"
    },
    {
     "data": {
      "text/plain": [
       "'Обработанная таблица  purchase:'"
      ]
     },
     "metadata": {},
     "output_type": "display_data"
    },
    {
     "data": {
      "text/html": [
       "<div>\n",
       "<style scoped>\n",
       "    .dataframe tbody tr th:only-of-type {\n",
       "        vertical-align: middle;\n",
       "    }\n",
       "\n",
       "    .dataframe tbody tr th {\n",
       "        vertical-align: top;\n",
       "    }\n",
       "\n",
       "    .dataframe thead th {\n",
       "        text-align: right;\n",
       "    }\n",
       "</style>\n",
       "<table border=\"1\" class=\"dataframe\">\n",
       "  <thead>\n",
       "    <tr style=\"text-align: right;\">\n",
       "      <th></th>\n",
       "      <th>id</th>\n",
       "      <th>user_id</th>\n",
       "      <th>event_datetime</th>\n",
       "      <th>amount</th>\n",
       "    </tr>\n",
       "  </thead>\n",
       "  <tbody>\n",
       "    <tr>\n",
       "      <th>0</th>\n",
       "      <td>15674</td>\n",
       "      <td>12584</td>\n",
       "      <td>2016-05-12 10:34:16</td>\n",
       "      <td>100</td>\n",
       "    </tr>\n",
       "    <tr>\n",
       "      <th>1</th>\n",
       "      <td>15675</td>\n",
       "      <td>12985</td>\n",
       "      <td>2016-05-13 08:25:56</td>\n",
       "      <td>50</td>\n",
       "    </tr>\n",
       "    <tr>\n",
       "      <th>2</th>\n",
       "      <td>15676</td>\n",
       "      <td>12828</td>\n",
       "      <td>2016-05-13 16:33:46</td>\n",
       "      <td>50</td>\n",
       "    </tr>\n",
       "    <tr>\n",
       "      <th>3</th>\n",
       "      <td>15677</td>\n",
       "      <td>12598</td>\n",
       "      <td>2016-05-14 01:09:37</td>\n",
       "      <td>150</td>\n",
       "    </tr>\n",
       "    <tr>\n",
       "      <th>4</th>\n",
       "      <td>15678</td>\n",
       "      <td>13037</td>\n",
       "      <td>2016-05-14 01:24:46</td>\n",
       "      <td>100</td>\n",
       "    </tr>\n",
       "  </tbody>\n",
       "</table>\n",
       "</div>"
      ],
      "text/plain": [
       "      id  user_id      event_datetime  amount\n",
       "0  15674    12584 2016-05-12 10:34:16     100\n",
       "1  15675    12985 2016-05-13 08:25:56      50\n",
       "2  15676    12828 2016-05-13 16:33:46      50\n",
       "3  15677    12598 2016-05-14 01:09:37     150\n",
       "4  15678    13037 2016-05-14 01:24:46     100"
      ]
     },
     "metadata": {},
     "output_type": "display_data"
    }
   ],
   "source": [
    "display(\"Посмотрим на исходную таблицу purchase:\", purchase.head())   \n",
    "purchase['event_datetime']=purchase['event_datetime'].apply(remove_t)\n",
    "purchase['event_datetime']=pd.to_datetime(purchase['event_datetime'])\n",
    "display(\"Обработанная таблица  purchase:\", purchase.head())"
   ]
  },
  {
   "cell_type": "markdown",
   "metadata": {},
   "source": [
    "##### Оставляем в таблице purchase только события пользоваетелй с регистрацией в 2018 году -> новая таблица purchase_user_reg2018"
   ]
  },
  {
   "cell_type": "code",
   "execution_count": 127,
   "metadata": {},
   "outputs": [
    {
     "data": {
      "text/html": [
       "<div>\n",
       "<style scoped>\n",
       "    .dataframe tbody tr th:only-of-type {\n",
       "        vertical-align: middle;\n",
       "    }\n",
       "\n",
       "    .dataframe tbody tr th {\n",
       "        vertical-align: top;\n",
       "    }\n",
       "\n",
       "    .dataframe thead th {\n",
       "        text-align: right;\n",
       "    }\n",
       "</style>\n",
       "<table border=\"1\" class=\"dataframe\">\n",
       "  <thead>\n",
       "    <tr style=\"text-align: right;\">\n",
       "      <th></th>\n",
       "      <th>user_id</th>\n",
       "      <th>id</th>\n",
       "      <th>event_datetime</th>\n",
       "      <th>amount</th>\n",
       "    </tr>\n",
       "  </thead>\n",
       "  <tbody>\n",
       "    <tr>\n",
       "      <th>0</th>\n",
       "      <td>27845</td>\n",
       "      <td>16845</td>\n",
       "      <td>2018-01-03 18:53:43</td>\n",
       "      <td>100</td>\n",
       "    </tr>\n",
       "    <tr>\n",
       "      <th>1</th>\n",
       "      <td>27865</td>\n",
       "      <td>16846</td>\n",
       "      <td>2018-01-04 14:46:10</td>\n",
       "      <td>250</td>\n",
       "    </tr>\n",
       "    <tr>\n",
       "      <th>2</th>\n",
       "      <td>27884</td>\n",
       "      <td>16854</td>\n",
       "      <td>2018-01-08 19:37:34</td>\n",
       "      <td>150</td>\n",
       "    </tr>\n",
       "    <tr>\n",
       "      <th>3</th>\n",
       "      <td>27910</td>\n",
       "      <td>16849</td>\n",
       "      <td>2018-01-07 12:11:34</td>\n",
       "      <td>100</td>\n",
       "    </tr>\n",
       "    <tr>\n",
       "      <th>4</th>\n",
       "      <td>27911</td>\n",
       "      <td>16848</td>\n",
       "      <td>2018-01-07 08:19:12</td>\n",
       "      <td>50</td>\n",
       "    </tr>\n",
       "  </tbody>\n",
       "</table>\n",
       "</div>"
      ],
      "text/plain": [
       "   user_id     id      event_datetime  amount\n",
       "0    27845  16845 2018-01-03 18:53:43     100\n",
       "1    27865  16846 2018-01-04 14:46:10     250\n",
       "2    27884  16854 2018-01-08 19:37:34     150\n",
       "3    27910  16849 2018-01-07 12:11:34     100\n",
       "4    27911  16848 2018-01-07 08:19:12      50"
      ]
     },
     "metadata": {},
     "output_type": "display_data"
    }
   ],
   "source": [
    "purchase_user_reg2018=users_reg2018.merge(purchase,how='inner',on='user_id')\n",
    "display(purchase_user_reg2018.head())"
   ]
  },
  {
   "cell_type": "markdown",
   "metadata": {},
   "source": [
    "#### ПРЕДВАРИТЕЛЬНЫЙ АНАЛИЗ ДАННЫХ"
   ]
  },
  {
   "cell_type": "code",
   "execution_count": 128,
   "metadata": {},
   "outputs": [
    {
     "name": "stdout",
     "output_type": "stream",
     "text": [
      "Варианты событий: ['registration' 'tutorial_start' 'tutorial_finish' 'level_choice'\n",
      " 'pack_choice']\n"
     ]
    }
   ],
   "source": [
    "print(\"Варианты событий:\", events['event_type'].unique())"
   ]
  },
  {
   "cell_type": "markdown",
   "metadata": {},
   "source": [
    "##### Выделим из таблицы events события типа level_choice"
   ]
  },
  {
   "cell_type": "code",
   "execution_count": 140,
   "metadata": {},
   "outputs": [
    {
     "data": {
      "text/plain": [
       "'events с событием level_choice:'"
      ]
     },
     "metadata": {},
     "output_type": "display_data"
    },
    {
     "data": {
      "text/html": [
       "<div>\n",
       "<style scoped>\n",
       "    .dataframe tbody tr th:only-of-type {\n",
       "        vertical-align: middle;\n",
       "    }\n",
       "\n",
       "    .dataframe tbody tr th {\n",
       "        vertical-align: top;\n",
       "    }\n",
       "\n",
       "    .dataframe thead th {\n",
       "        text-align: right;\n",
       "    }\n",
       "</style>\n",
       "<table border=\"1\" class=\"dataframe\">\n",
       "  <thead>\n",
       "    <tr style=\"text-align: right;\">\n",
       "      <th></th>\n",
       "      <th>user_id</th>\n",
       "      <th>id</th>\n",
       "      <th>event_type</th>\n",
       "      <th>selected_level</th>\n",
       "      <th>start_time</th>\n",
       "      <th>tutorial_id</th>\n",
       "    </tr>\n",
       "  </thead>\n",
       "  <tbody>\n",
       "    <tr>\n",
       "      <th>10</th>\n",
       "      <td>27835</td>\n",
       "      <td>80327</td>\n",
       "      <td>level_choice</td>\n",
       "      <td>medium</td>\n",
       "      <td>2018-01-01 20:37:22</td>\n",
       "      <td>NaN</td>\n",
       "    </tr>\n",
       "    <tr>\n",
       "      <th>21</th>\n",
       "      <td>27839</td>\n",
       "      <td>80331</td>\n",
       "      <td>level_choice</td>\n",
       "      <td>hard</td>\n",
       "      <td>2018-01-01 22:37:50</td>\n",
       "      <td>NaN</td>\n",
       "    </tr>\n",
       "    <tr>\n",
       "      <th>25</th>\n",
       "      <td>27840</td>\n",
       "      <td>80344</td>\n",
       "      <td>level_choice</td>\n",
       "      <td>medium</td>\n",
       "      <td>2018-01-02 05:18:42</td>\n",
       "      <td>NaN</td>\n",
       "    </tr>\n",
       "    <tr>\n",
       "      <th>32</th>\n",
       "      <td>27842</td>\n",
       "      <td>80353</td>\n",
       "      <td>level_choice</td>\n",
       "      <td>easy</td>\n",
       "      <td>2018-01-02 08:46:03</td>\n",
       "      <td>NaN</td>\n",
       "    </tr>\n",
       "    <tr>\n",
       "      <th>39</th>\n",
       "      <td>27843</td>\n",
       "      <td>80365</td>\n",
       "      <td>level_choice</td>\n",
       "      <td>medium</td>\n",
       "      <td>2018-01-02 14:09:58</td>\n",
       "      <td>NaN</td>\n",
       "    </tr>\n",
       "  </tbody>\n",
       "</table>\n",
       "</div>"
      ],
      "text/plain": [
       "    user_id     id    event_type selected_level          start_time  \\\n",
       "10    27835  80327  level_choice         medium 2018-01-01 20:37:22   \n",
       "21    27839  80331  level_choice           hard 2018-01-01 22:37:50   \n",
       "25    27840  80344  level_choice         medium 2018-01-02 05:18:42   \n",
       "32    27842  80353  level_choice           easy 2018-01-02 08:46:03   \n",
       "39    27843  80365  level_choice         medium 2018-01-02 14:09:58   \n",
       "\n",
       "    tutorial_id  \n",
       "10          NaN  \n",
       "21          NaN  \n",
       "25          NaN  \n",
       "32          NaN  \n",
       "39          NaN  "
      ]
     },
     "metadata": {},
     "output_type": "display_data"
    },
    {
     "name": "stdout",
     "output_type": "stream",
     "text": [
      "Все пользователи выполняли действие level_choice не более одного раза?    True\n"
     ]
    }
   ],
   "source": [
    "events_selected_level=events_user_reg2018[events_user_reg2018['event_type'] == 'level_choice']   \n",
    "    #events с событием level_choice\n",
    "# убедимся что все пользователи выполняли действие level_choice не более одного раза\n",
    "display(\"events с событием level_choice:\", events_selected_level.head())\n",
    "print(\"Все пользователи выполняли действие level_choice не более одного раза?   \", \n",
    "    events_selected_level.shape[0] == events_selected_level['user_id'].nunique())\n"
   ]
  },
  {
   "cell_type": "markdown",
   "metadata": {},
   "source": [
    "##### Убедимся что все пользователи совершали оплату не более одного раза"
   ]
  },
  {
   "cell_type": "code",
   "execution_count": 130,
   "metadata": {},
   "outputs": [
    {
     "name": "stdout",
     "output_type": "stream",
     "text": [
      "Все пользователи совершали оплату не более одного раза:    True\n"
     ]
    }
   ],
   "source": [
    "print(\"Все пользователи совершали оплату не более одного раза:   \", \n",
    "    purchase_user_reg2018.shape[0] == purchase_user_reg2018['user_id'].nunique())"
   ]
  },
  {
   "cell_type": "markdown",
   "metadata": {},
   "source": [
    "##### Посмотрим сколько пользователей совершили level_choice, сколько пользователей сделали оплаты и убедимся что все пользователи, сделавшие оплату, совершили level_choice "
   ]
  },
  {
   "cell_type": "code",
   "execution_count": 131,
   "metadata": {},
   "outputs": [
    {
     "name": "stdout",
     "output_type": "stream",
     "text": [
      "Сколько пользователей совершили level_choice? - 8342\n",
      "Сколько пользователей сделали оплату? - 1600\n",
      "Все пользователи, сделавшие оплату, совершили level_choice:    True\n"
     ]
    }
   ],
   "source": [
    "print(\"Сколько пользователей совершили level_choice? -\", events_selected_level.shape[0])\n",
    "print(\"Сколько пользователей сделали оплату? -\", purchase_user_reg2018.shape[0])\n",
    "print(\"Все пользователи, сделавшие оплату, совершили level_choice:   \", \n",
    "    purchase_user_reg2018[purchase_user_reg2018['user_id'].isin(events_selected_level['user_id'])]['user_id'].shape[0]\n",
    "    ==\n",
    "    purchase_user_reg2018.shape[0])"
   ]
  },
  {
   "cell_type": "markdown",
   "metadata": {},
   "source": [
    "##### Объеденим таблицы с событиями и с оплатой в единую таблицу для пользователей, совершивших level_choice, и уберем лишние колонки"
   ]
  },
  {
   "cell_type": "code",
   "execution_count": 141,
   "metadata": {},
   "outputs": [
    {
     "data": {
      "text/plain": [
       "'Объединенная таблица:'"
      ]
     },
     "metadata": {},
     "output_type": "display_data"
    },
    {
     "data": {
      "text/html": [
       "<div>\n",
       "<style scoped>\n",
       "    .dataframe tbody tr th:only-of-type {\n",
       "        vertical-align: middle;\n",
       "    }\n",
       "\n",
       "    .dataframe tbody tr th {\n",
       "        vertical-align: top;\n",
       "    }\n",
       "\n",
       "    .dataframe thead th {\n",
       "        text-align: right;\n",
       "    }\n",
       "</style>\n",
       "<table border=\"1\" class=\"dataframe\">\n",
       "  <thead>\n",
       "    <tr style=\"text-align: right;\">\n",
       "      <th></th>\n",
       "      <th>user_id</th>\n",
       "      <th>event_type</th>\n",
       "      <th>selected_level</th>\n",
       "      <th>level_choice_time</th>\n",
       "      <th>purchase_time</th>\n",
       "    </tr>\n",
       "  </thead>\n",
       "  <tbody>\n",
       "    <tr>\n",
       "      <th>0</th>\n",
       "      <td>27835</td>\n",
       "      <td>level_choice</td>\n",
       "      <td>medium</td>\n",
       "      <td>2018-01-01 20:37:22</td>\n",
       "      <td>NaT</td>\n",
       "    </tr>\n",
       "    <tr>\n",
       "      <th>1</th>\n",
       "      <td>27839</td>\n",
       "      <td>level_choice</td>\n",
       "      <td>hard</td>\n",
       "      <td>2018-01-01 22:37:50</td>\n",
       "      <td>NaT</td>\n",
       "    </tr>\n",
       "    <tr>\n",
       "      <th>2</th>\n",
       "      <td>27840</td>\n",
       "      <td>level_choice</td>\n",
       "      <td>medium</td>\n",
       "      <td>2018-01-02 05:18:42</td>\n",
       "      <td>NaT</td>\n",
       "    </tr>\n",
       "    <tr>\n",
       "      <th>3</th>\n",
       "      <td>27842</td>\n",
       "      <td>level_choice</td>\n",
       "      <td>easy</td>\n",
       "      <td>2018-01-02 08:46:03</td>\n",
       "      <td>NaT</td>\n",
       "    </tr>\n",
       "    <tr>\n",
       "      <th>4</th>\n",
       "      <td>27843</td>\n",
       "      <td>level_choice</td>\n",
       "      <td>medium</td>\n",
       "      <td>2018-01-02 14:09:58</td>\n",
       "      <td>NaT</td>\n",
       "    </tr>\n",
       "  </tbody>\n",
       "</table>\n",
       "</div>"
      ],
      "text/plain": [
       "   user_id    event_type selected_level   level_choice_time purchase_time\n",
       "0    27835  level_choice         medium 2018-01-01 20:37:22           NaT\n",
       "1    27839  level_choice           hard 2018-01-01 22:37:50           NaT\n",
       "2    27840  level_choice         medium 2018-01-02 05:18:42           NaT\n",
       "3    27842  level_choice           easy 2018-01-02 08:46:03           NaT\n",
       "4    27843  level_choice         medium 2018-01-02 14:09:58           NaT"
      ]
     },
     "metadata": {},
     "output_type": "display_data"
    }
   ],
   "source": [
    "events_selected_level_new=events_selected_level.rename(columns={'start_time':'level_choice_time'}).drop(\n",
    "    labels=['id','tutorial_id'],axis=1)\n",
    "purchase_user_reg2018_new=purchase_user_reg2018.rename(columns={'event_datetime':'purchase_time'}).drop(\n",
    "    labels=['id','amount'],axis=1)\n",
    "events_selected_level_purchase=events_selected_level_new.merge(purchase_user_reg2018_new, how='left', on='user_id')\n",
    "display(\"Объединенная таблица:\", events_selected_level_purchase.head())"
   ]
  },
  {
   "cell_type": "markdown",
   "metadata": {},
   "source": [
    "#### ОПРЕДЕЛИМ, ЕСТЬ ЛИ ЗАВИСИМОСТЬ МЕЖДУ ВЫБРАННЫМ УРОВНЕМ СЛОЖНОСТИ И ВЕРОЯТНОСТЬЮ ОПЛАТЫ"
   ]
  },
  {
   "cell_type": "markdown",
   "metadata": {},
   "source": [
    "##### Разобъем объединенную таблицу на три таблицы по selected_level"
   ]
  },
  {
   "cell_type": "code",
   "execution_count": 142,
   "metadata": {},
   "outputs": [
    {
     "name": "stdout",
     "output_type": "stream",
     "text": [
      "Посмотрим, какие имеются selected_level и все ли варианты статистически значимы:\n",
      "medium    4645\n",
      "easy      2448\n",
      "hard      1249\n",
      "Name: selected_level, dtype: int64\n"
     ]
    },
    {
     "data": {
      "text/plain": [
       "'Таблица для уровня easy:'"
      ]
     },
     "metadata": {},
     "output_type": "display_data"
    },
    {
     "data": {
      "text/html": [
       "<div>\n",
       "<style scoped>\n",
       "    .dataframe tbody tr th:only-of-type {\n",
       "        vertical-align: middle;\n",
       "    }\n",
       "\n",
       "    .dataframe tbody tr th {\n",
       "        vertical-align: top;\n",
       "    }\n",
       "\n",
       "    .dataframe thead th {\n",
       "        text-align: right;\n",
       "    }\n",
       "</style>\n",
       "<table border=\"1\" class=\"dataframe\">\n",
       "  <thead>\n",
       "    <tr style=\"text-align: right;\">\n",
       "      <th></th>\n",
       "      <th>user_id</th>\n",
       "      <th>event_type</th>\n",
       "      <th>selected_level</th>\n",
       "      <th>level_choice_time</th>\n",
       "      <th>purchase_time</th>\n",
       "    </tr>\n",
       "  </thead>\n",
       "  <tbody>\n",
       "    <tr>\n",
       "      <th>3</th>\n",
       "      <td>27842</td>\n",
       "      <td>level_choice</td>\n",
       "      <td>easy</td>\n",
       "      <td>2018-01-02 08:46:03</td>\n",
       "      <td>NaT</td>\n",
       "    </tr>\n",
       "    <tr>\n",
       "      <th>8</th>\n",
       "      <td>27849</td>\n",
       "      <td>level_choice</td>\n",
       "      <td>easy</td>\n",
       "      <td>2018-01-02 11:53:11</td>\n",
       "      <td>NaT</td>\n",
       "    </tr>\n",
       "    <tr>\n",
       "      <th>10</th>\n",
       "      <td>27853</td>\n",
       "      <td>level_choice</td>\n",
       "      <td>easy</td>\n",
       "      <td>2018-01-03 00:39:54</td>\n",
       "      <td>NaT</td>\n",
       "    </tr>\n",
       "    <tr>\n",
       "      <th>14</th>\n",
       "      <td>27859</td>\n",
       "      <td>level_choice</td>\n",
       "      <td>easy</td>\n",
       "      <td>2018-01-03 01:11:45</td>\n",
       "      <td>NaT</td>\n",
       "    </tr>\n",
       "    <tr>\n",
       "      <th>17</th>\n",
       "      <td>27863</td>\n",
       "      <td>level_choice</td>\n",
       "      <td>easy</td>\n",
       "      <td>2018-01-03 09:31:00</td>\n",
       "      <td>NaT</td>\n",
       "    </tr>\n",
       "  </tbody>\n",
       "</table>\n",
       "</div>"
      ],
      "text/plain": [
       "    user_id    event_type selected_level   level_choice_time purchase_time\n",
       "3     27842  level_choice           easy 2018-01-02 08:46:03           NaT\n",
       "8     27849  level_choice           easy 2018-01-02 11:53:11           NaT\n",
       "10    27853  level_choice           easy 2018-01-03 00:39:54           NaT\n",
       "14    27859  level_choice           easy 2018-01-03 01:11:45           NaT\n",
       "17    27863  level_choice           easy 2018-01-03 09:31:00           NaT"
      ]
     },
     "metadata": {},
     "output_type": "display_data"
    },
    {
     "data": {
      "text/plain": [
       "'Таблица для уровня medium:'"
      ]
     },
     "metadata": {},
     "output_type": "display_data"
    },
    {
     "data": {
      "text/html": [
       "<div>\n",
       "<style scoped>\n",
       "    .dataframe tbody tr th:only-of-type {\n",
       "        vertical-align: middle;\n",
       "    }\n",
       "\n",
       "    .dataframe tbody tr th {\n",
       "        vertical-align: top;\n",
       "    }\n",
       "\n",
       "    .dataframe thead th {\n",
       "        text-align: right;\n",
       "    }\n",
       "</style>\n",
       "<table border=\"1\" class=\"dataframe\">\n",
       "  <thead>\n",
       "    <tr style=\"text-align: right;\">\n",
       "      <th></th>\n",
       "      <th>user_id</th>\n",
       "      <th>event_type</th>\n",
       "      <th>selected_level</th>\n",
       "      <th>level_choice_time</th>\n",
       "      <th>purchase_time</th>\n",
       "    </tr>\n",
       "  </thead>\n",
       "  <tbody>\n",
       "    <tr>\n",
       "      <th>0</th>\n",
       "      <td>27835</td>\n",
       "      <td>level_choice</td>\n",
       "      <td>medium</td>\n",
       "      <td>2018-01-01 20:37:22</td>\n",
       "      <td>NaT</td>\n",
       "    </tr>\n",
       "    <tr>\n",
       "      <th>2</th>\n",
       "      <td>27840</td>\n",
       "      <td>level_choice</td>\n",
       "      <td>medium</td>\n",
       "      <td>2018-01-02 05:18:42</td>\n",
       "      <td>NaT</td>\n",
       "    </tr>\n",
       "    <tr>\n",
       "      <th>4</th>\n",
       "      <td>27843</td>\n",
       "      <td>level_choice</td>\n",
       "      <td>medium</td>\n",
       "      <td>2018-01-02 14:09:58</td>\n",
       "      <td>NaT</td>\n",
       "    </tr>\n",
       "    <tr>\n",
       "      <th>6</th>\n",
       "      <td>27846</td>\n",
       "      <td>level_choice</td>\n",
       "      <td>medium</td>\n",
       "      <td>2018-01-02 15:10:27</td>\n",
       "      <td>NaT</td>\n",
       "    </tr>\n",
       "    <tr>\n",
       "      <th>7</th>\n",
       "      <td>27847</td>\n",
       "      <td>level_choice</td>\n",
       "      <td>medium</td>\n",
       "      <td>2018-01-02 18:09:02</td>\n",
       "      <td>NaT</td>\n",
       "    </tr>\n",
       "  </tbody>\n",
       "</table>\n",
       "</div>"
      ],
      "text/plain": [
       "   user_id    event_type selected_level   level_choice_time purchase_time\n",
       "0    27835  level_choice         medium 2018-01-01 20:37:22           NaT\n",
       "2    27840  level_choice         medium 2018-01-02 05:18:42           NaT\n",
       "4    27843  level_choice         medium 2018-01-02 14:09:58           NaT\n",
       "6    27846  level_choice         medium 2018-01-02 15:10:27           NaT\n",
       "7    27847  level_choice         medium 2018-01-02 18:09:02           NaT"
      ]
     },
     "metadata": {},
     "output_type": "display_data"
    },
    {
     "data": {
      "text/plain": [
       "'Таблица для уровня hard:'"
      ]
     },
     "metadata": {},
     "output_type": "display_data"
    },
    {
     "data": {
      "text/html": [
       "<div>\n",
       "<style scoped>\n",
       "    .dataframe tbody tr th:only-of-type {\n",
       "        vertical-align: middle;\n",
       "    }\n",
       "\n",
       "    .dataframe tbody tr th {\n",
       "        vertical-align: top;\n",
       "    }\n",
       "\n",
       "    .dataframe thead th {\n",
       "        text-align: right;\n",
       "    }\n",
       "</style>\n",
       "<table border=\"1\" class=\"dataframe\">\n",
       "  <thead>\n",
       "    <tr style=\"text-align: right;\">\n",
       "      <th></th>\n",
       "      <th>user_id</th>\n",
       "      <th>event_type</th>\n",
       "      <th>selected_level</th>\n",
       "      <th>level_choice_time</th>\n",
       "      <th>purchase_time</th>\n",
       "    </tr>\n",
       "  </thead>\n",
       "  <tbody>\n",
       "    <tr>\n",
       "      <th>1</th>\n",
       "      <td>27839</td>\n",
       "      <td>level_choice</td>\n",
       "      <td>hard</td>\n",
       "      <td>2018-01-01 22:37:50</td>\n",
       "      <td>NaT</td>\n",
       "    </tr>\n",
       "    <tr>\n",
       "      <th>5</th>\n",
       "      <td>27845</td>\n",
       "      <td>level_choice</td>\n",
       "      <td>hard</td>\n",
       "      <td>2018-01-02 06:19:18</td>\n",
       "      <td>2018-01-03 18:53:43</td>\n",
       "    </tr>\n",
       "    <tr>\n",
       "      <th>18</th>\n",
       "      <td>27865</td>\n",
       "      <td>level_choice</td>\n",
       "      <td>hard</td>\n",
       "      <td>2018-01-04 05:56:32</td>\n",
       "      <td>2018-01-04 14:46:10</td>\n",
       "    </tr>\n",
       "    <tr>\n",
       "      <th>26</th>\n",
       "      <td>27888</td>\n",
       "      <td>level_choice</td>\n",
       "      <td>hard</td>\n",
       "      <td>2018-01-04 19:41:29</td>\n",
       "      <td>NaT</td>\n",
       "    </tr>\n",
       "    <tr>\n",
       "      <th>31</th>\n",
       "      <td>27910</td>\n",
       "      <td>level_choice</td>\n",
       "      <td>hard</td>\n",
       "      <td>2018-01-05 11:59:50</td>\n",
       "      <td>2018-01-07 12:11:34</td>\n",
       "    </tr>\n",
       "  </tbody>\n",
       "</table>\n",
       "</div>"
      ],
      "text/plain": [
       "    user_id    event_type selected_level   level_choice_time  \\\n",
       "1     27839  level_choice           hard 2018-01-01 22:37:50   \n",
       "5     27845  level_choice           hard 2018-01-02 06:19:18   \n",
       "18    27865  level_choice           hard 2018-01-04 05:56:32   \n",
       "26    27888  level_choice           hard 2018-01-04 19:41:29   \n",
       "31    27910  level_choice           hard 2018-01-05 11:59:50   \n",
       "\n",
       "         purchase_time  \n",
       "1                  NaT  \n",
       "5  2018-01-03 18:53:43  \n",
       "18 2018-01-04 14:46:10  \n",
       "26                 NaT  \n",
       "31 2018-01-07 12:11:34  "
      ]
     },
     "metadata": {},
     "output_type": "display_data"
    }
   ],
   "source": [
    "print(\"Посмотрим, какие имеются selected_level и все ли варианты статистически значимы:\")\n",
    "print(events_selected_level_purchase['selected_level'].value_counts())\n",
    "easy_level=events_selected_level_purchase[events_selected_level_purchase['selected_level'] == 'easy']\n",
    "medium_level=events_selected_level_purchase[events_selected_level_purchase['selected_level'] == 'medium']\n",
    "hard_level=events_selected_level_purchase[events_selected_level_purchase['selected_level'] == 'hard']\n",
    "display(\"Таблица для уровня easy:\", easy_level.head())\n",
    "display(\"Таблица для уровня medium:\", medium_level.head())\n",
    "display(\"Таблица для уровня hard:\", hard_level.head())"
   ]
  },
  {
   "cell_type": "markdown",
   "metadata": {},
   "source": [
    "##### Посчитаем долю оплат в группах с разным selected_level"
   ]
  },
  {
   "cell_type": "code",
   "execution_count": 134,
   "metadata": {},
   "outputs": [
    {
     "name": "stdout",
     "output_type": "stream",
     "text": [
      "Доля оплативших среди пользователей, выбравших уровень easy:      0.08\n",
      "Доля оплативших среди пользователей, выбравших уровень medium:    0.21\n",
      "Доля оплативших среди пользователей, выбравших уровень hard:      0.35\n"
     ]
    }
   ],
   "source": [
    "percent_purchase_easy=easy_level['purchase_time'].count() / easy_level['level_choice_time'].count() \n",
    "print(\"Доля оплативших среди пользователей, выбравших уровень easy:     \", round(percent_purchase_easy, 2))\n",
    "percent_purchase_medium=medium_level['purchase_time'].count() / medium_level['level_choice_time'].count() \n",
    "print(\"Доля оплативших среди пользователей, выбравших уровень medium:   \", round(percent_purchase_medium, 2))\n",
    "percent_purchase_hard=hard_level['purchase_time'].count() / hard_level['level_choice_time'].count() \n",
    "print(\"Доля оплативших среди пользователей, выбравших уровень hard:     \", round(percent_purchase_hard, 2))"
   ]
  },
  {
   "cell_type": "markdown",
   "metadata": {},
   "source": [
    "**ВЫВОД 1:**\n",
    "Чем сложнее выбранный уровень (selected_level), тем более вероятен факт оплаты."
   ]
  },
  {
   "cell_type": "markdown",
   "metadata": {},
   "source": [
    "#### ОПРЕДЕЛИМ, РАЗЛИЧАЕТСЯ ЛИ ВРЕМЕННОЙ ПРОМЕЖУТОК МЕЖДУ РЕГИСТРАЦИЕЙ И ОПЛАТОЙ<br> У ГРУПП ПОЛЬЗОВАТЕЛЕЙ С РАЗНЫМ УРОВНЕМ СЛОЖНОСТИ"
   ]
  },
  {
   "cell_type": "markdown",
   "metadata": {},
   "source": [
    "##### Оставим в таблице events только строки с событием registration"
   ]
  },
  {
   "cell_type": "code",
   "execution_count": 135,
   "metadata": {},
   "outputs": [
    {
     "data": {
      "text/html": [
       "<div>\n",
       "<style scoped>\n",
       "    .dataframe tbody tr th:only-of-type {\n",
       "        vertical-align: middle;\n",
       "    }\n",
       "\n",
       "    .dataframe tbody tr th {\n",
       "        vertical-align: top;\n",
       "    }\n",
       "\n",
       "    .dataframe thead th {\n",
       "        text-align: right;\n",
       "    }\n",
       "</style>\n",
       "<table border=\"1\" class=\"dataframe\">\n",
       "  <thead>\n",
       "    <tr style=\"text-align: right;\">\n",
       "      <th></th>\n",
       "      <th>user_id</th>\n",
       "      <th>id</th>\n",
       "      <th>event_type</th>\n",
       "      <th>selected_level</th>\n",
       "      <th>start_time</th>\n",
       "      <th>tutorial_id</th>\n",
       "    </tr>\n",
       "  </thead>\n",
       "  <tbody>\n",
       "    <tr>\n",
       "      <th>0</th>\n",
       "      <td>27832</td>\n",
       "      <td>80308</td>\n",
       "      <td>registration</td>\n",
       "      <td>NaN</td>\n",
       "      <td>2018-01-01 03:48:40</td>\n",
       "      <td>NaN</td>\n",
       "    </tr>\n",
       "    <tr>\n",
       "      <th>1</th>\n",
       "      <td>27833</td>\n",
       "      <td>80309</td>\n",
       "      <td>registration</td>\n",
       "      <td>NaN</td>\n",
       "      <td>2018-01-01 04:07:25</td>\n",
       "      <td>NaN</td>\n",
       "    </tr>\n",
       "    <tr>\n",
       "      <th>4</th>\n",
       "      <td>27834</td>\n",
       "      <td>80310</td>\n",
       "      <td>registration</td>\n",
       "      <td>NaN</td>\n",
       "      <td>2018-01-01 08:35:10</td>\n",
       "      <td>NaN</td>\n",
       "    </tr>\n",
       "    <tr>\n",
       "      <th>7</th>\n",
       "      <td>27835</td>\n",
       "      <td>80311</td>\n",
       "      <td>registration</td>\n",
       "      <td>NaN</td>\n",
       "      <td>2018-01-01 11:54:47</td>\n",
       "      <td>NaN</td>\n",
       "    </tr>\n",
       "    <tr>\n",
       "      <th>12</th>\n",
       "      <td>27836</td>\n",
       "      <td>80312</td>\n",
       "      <td>registration</td>\n",
       "      <td>NaN</td>\n",
       "      <td>2018-01-01 13:28:07</td>\n",
       "      <td>NaN</td>\n",
       "    </tr>\n",
       "  </tbody>\n",
       "</table>\n",
       "</div>"
      ],
      "text/plain": [
       "    user_id     id    event_type selected_level          start_time  \\\n",
       "0     27832  80308  registration            NaN 2018-01-01 03:48:40   \n",
       "1     27833  80309  registration            NaN 2018-01-01 04:07:25   \n",
       "4     27834  80310  registration            NaN 2018-01-01 08:35:10   \n",
       "7     27835  80311  registration            NaN 2018-01-01 11:54:47   \n",
       "12    27836  80312  registration            NaN 2018-01-01 13:28:07   \n",
       "\n",
       "    tutorial_id  \n",
       "0           NaN  \n",
       "1           NaN  \n",
       "4           NaN  \n",
       "7           NaN  \n",
       "12          NaN  "
      ]
     },
     "metadata": {},
     "output_type": "display_data"
    }
   ],
   "source": [
    "events_registration=events_user_reg2018[events_user_reg2018['event_type'] == 'registration']   \n",
    "    #events с событием registration\n",
    "display(events_registration.head())"
   ]
  },
  {
   "cell_type": "markdown",
   "metadata": {},
   "source": [
    "##### Объеденим таблицы с registration и с оплатой в единую таблицу, и уберем лишние колонки"
   ]
  },
  {
   "cell_type": "code",
   "execution_count": 136,
   "metadata": {},
   "outputs": [
    {
     "data": {
      "text/html": [
       "<div>\n",
       "<style scoped>\n",
       "    .dataframe tbody tr th:only-of-type {\n",
       "        vertical-align: middle;\n",
       "    }\n",
       "\n",
       "    .dataframe tbody tr th {\n",
       "        vertical-align: top;\n",
       "    }\n",
       "\n",
       "    .dataframe thead th {\n",
       "        text-align: right;\n",
       "    }\n",
       "</style>\n",
       "<table border=\"1\" class=\"dataframe\">\n",
       "  <thead>\n",
       "    <tr style=\"text-align: right;\">\n",
       "      <th></th>\n",
       "      <th>user_id</th>\n",
       "      <th>event_type</th>\n",
       "      <th>registration_time</th>\n",
       "      <th>purchase_time</th>\n",
       "    </tr>\n",
       "  </thead>\n",
       "  <tbody>\n",
       "    <tr>\n",
       "      <th>0</th>\n",
       "      <td>27845</td>\n",
       "      <td>registration</td>\n",
       "      <td>2018-01-02 01:35:56</td>\n",
       "      <td>2018-01-03 18:53:43</td>\n",
       "    </tr>\n",
       "    <tr>\n",
       "      <th>1</th>\n",
       "      <td>27865</td>\n",
       "      <td>registration</td>\n",
       "      <td>2018-01-03 11:14:57</td>\n",
       "      <td>2018-01-04 14:46:10</td>\n",
       "    </tr>\n",
       "    <tr>\n",
       "      <th>2</th>\n",
       "      <td>27884</td>\n",
       "      <td>registration</td>\n",
       "      <td>2018-01-04 11:50:43</td>\n",
       "      <td>2018-01-08 19:37:34</td>\n",
       "    </tr>\n",
       "    <tr>\n",
       "      <th>3</th>\n",
       "      <td>27910</td>\n",
       "      <td>registration</td>\n",
       "      <td>2018-01-05 10:45:33</td>\n",
       "      <td>2018-01-07 12:11:34</td>\n",
       "    </tr>\n",
       "    <tr>\n",
       "      <th>4</th>\n",
       "      <td>27911</td>\n",
       "      <td>registration</td>\n",
       "      <td>2018-01-05 10:48:24</td>\n",
       "      <td>2018-01-07 08:19:12</td>\n",
       "    </tr>\n",
       "  </tbody>\n",
       "</table>\n",
       "</div>"
      ],
      "text/plain": [
       "   user_id    event_type   registration_time       purchase_time\n",
       "0    27845  registration 2018-01-02 01:35:56 2018-01-03 18:53:43\n",
       "1    27865  registration 2018-01-03 11:14:57 2018-01-04 14:46:10\n",
       "2    27884  registration 2018-01-04 11:50:43 2018-01-08 19:37:34\n",
       "3    27910  registration 2018-01-05 10:45:33 2018-01-07 12:11:34\n",
       "4    27911  registration 2018-01-05 10:48:24 2018-01-07 08:19:12"
      ]
     },
     "metadata": {},
     "output_type": "display_data"
    }
   ],
   "source": [
    "events_registration_new=events_registration.rename(columns={'start_time':'registration_time'}).drop(axis=1,\n",
    "    labels=['selected_level', 'id', 'tutorial_id'])\n",
    "events_registration_purchase=events_registration_new.merge(purchase_user_reg2018_new, how='right', on='user_id')\n",
    "display(events_registration_purchase.head())"
   ]
  },
  {
   "cell_type": "markdown",
   "metadata": {},
   "source": [
    "##### Посчитаем время, прошедшее с регистрации до оплаты"
   ]
  },
  {
   "cell_type": "code",
   "execution_count": 137,
   "metadata": {},
   "outputs": [
    {
     "data": {
      "text/html": [
       "<div>\n",
       "<style scoped>\n",
       "    .dataframe tbody tr th:only-of-type {\n",
       "        vertical-align: middle;\n",
       "    }\n",
       "\n",
       "    .dataframe tbody tr th {\n",
       "        vertical-align: top;\n",
       "    }\n",
       "\n",
       "    .dataframe thead th {\n",
       "        text-align: right;\n",
       "    }\n",
       "</style>\n",
       "<table border=\"1\" class=\"dataframe\">\n",
       "  <thead>\n",
       "    <tr style=\"text-align: right;\">\n",
       "      <th></th>\n",
       "      <th>user_id</th>\n",
       "      <th>event_type</th>\n",
       "      <th>registration_time</th>\n",
       "      <th>purchase_time</th>\n",
       "      <th>time_dif</th>\n",
       "    </tr>\n",
       "  </thead>\n",
       "  <tbody>\n",
       "    <tr>\n",
       "      <th>0</th>\n",
       "      <td>27845</td>\n",
       "      <td>registration</td>\n",
       "      <td>2018-01-02 01:35:56</td>\n",
       "      <td>2018-01-03 18:53:43</td>\n",
       "      <td>1 days 17:17:47</td>\n",
       "    </tr>\n",
       "    <tr>\n",
       "      <th>1</th>\n",
       "      <td>27865</td>\n",
       "      <td>registration</td>\n",
       "      <td>2018-01-03 11:14:57</td>\n",
       "      <td>2018-01-04 14:46:10</td>\n",
       "      <td>1 days 03:31:13</td>\n",
       "    </tr>\n",
       "    <tr>\n",
       "      <th>2</th>\n",
       "      <td>27884</td>\n",
       "      <td>registration</td>\n",
       "      <td>2018-01-04 11:50:43</td>\n",
       "      <td>2018-01-08 19:37:34</td>\n",
       "      <td>4 days 07:46:51</td>\n",
       "    </tr>\n",
       "    <tr>\n",
       "      <th>3</th>\n",
       "      <td>27910</td>\n",
       "      <td>registration</td>\n",
       "      <td>2018-01-05 10:45:33</td>\n",
       "      <td>2018-01-07 12:11:34</td>\n",
       "      <td>2 days 01:26:01</td>\n",
       "    </tr>\n",
       "    <tr>\n",
       "      <th>4</th>\n",
       "      <td>27911</td>\n",
       "      <td>registration</td>\n",
       "      <td>2018-01-05 10:48:24</td>\n",
       "      <td>2018-01-07 08:19:12</td>\n",
       "      <td>1 days 21:30:48</td>\n",
       "    </tr>\n",
       "  </tbody>\n",
       "</table>\n",
       "</div>"
      ],
      "text/plain": [
       "   user_id    event_type   registration_time       purchase_time  \\\n",
       "0    27845  registration 2018-01-02 01:35:56 2018-01-03 18:53:43   \n",
       "1    27865  registration 2018-01-03 11:14:57 2018-01-04 14:46:10   \n",
       "2    27884  registration 2018-01-04 11:50:43 2018-01-08 19:37:34   \n",
       "3    27910  registration 2018-01-05 10:45:33 2018-01-07 12:11:34   \n",
       "4    27911  registration 2018-01-05 10:48:24 2018-01-07 08:19:12   \n",
       "\n",
       "         time_dif  \n",
       "0 1 days 17:17:47  \n",
       "1 1 days 03:31:13  \n",
       "2 4 days 07:46:51  \n",
       "3 2 days 01:26:01  \n",
       "4 1 days 21:30:48  "
      ]
     },
     "metadata": {},
     "output_type": "display_data"
    }
   ],
   "source": [
    "events_registration_purchase['time_dif'] = events_registration_purchase['purchase_time']- events_registration_purchase[\n",
    "    'registration_time']\n",
    "display(events_registration_purchase.head())"
   ]
  },
  {
   "cell_type": "markdown",
   "metadata": {},
   "source": [
    "##### Разобьем полученную таблицу на три таблицы по selected_level и оценим статистическую значимость"
   ]
  },
  {
   "cell_type": "code",
   "execution_count": 148,
   "metadata": {},
   "outputs": [
    {
     "name": "stdout",
     "output_type": "stream",
     "text": [
      "Таблица для уровня easy:   Число строк -    189\n"
     ]
    },
    {
     "data": {
      "text/html": [
       "<div>\n",
       "<style scoped>\n",
       "    .dataframe tbody tr th:only-of-type {\n",
       "        vertical-align: middle;\n",
       "    }\n",
       "\n",
       "    .dataframe tbody tr th {\n",
       "        vertical-align: top;\n",
       "    }\n",
       "\n",
       "    .dataframe thead th {\n",
       "        text-align: right;\n",
       "    }\n",
       "</style>\n",
       "<table border=\"1\" class=\"dataframe\">\n",
       "  <thead>\n",
       "    <tr style=\"text-align: right;\">\n",
       "      <th></th>\n",
       "      <th>user_id</th>\n",
       "      <th>event_type</th>\n",
       "      <th>registration_time</th>\n",
       "      <th>purchase_time</th>\n",
       "      <th>time_dif</th>\n",
       "    </tr>\n",
       "  </thead>\n",
       "  <tbody>\n",
       "    <tr>\n",
       "      <th>2</th>\n",
       "      <td>27884</td>\n",
       "      <td>registration</td>\n",
       "      <td>2018-01-04 11:50:43</td>\n",
       "      <td>2018-01-08 19:37:34</td>\n",
       "      <td>4 days 07:46:51</td>\n",
       "    </tr>\n",
       "    <tr>\n",
       "      <th>20</th>\n",
       "      <td>28090</td>\n",
       "      <td>registration</td>\n",
       "      <td>2018-01-09 19:31:24</td>\n",
       "      <td>2018-01-15 23:42:55</td>\n",
       "      <td>6 days 04:11:31</td>\n",
       "    </tr>\n",
       "    <tr>\n",
       "      <th>25</th>\n",
       "      <td>28182</td>\n",
       "      <td>registration</td>\n",
       "      <td>2018-01-11 10:12:20</td>\n",
       "      <td>2018-01-12 02:46:01</td>\n",
       "      <td>0 days 16:33:41</td>\n",
       "    </tr>\n",
       "    <tr>\n",
       "      <th>27</th>\n",
       "      <td>28207</td>\n",
       "      <td>registration</td>\n",
       "      <td>2018-01-11 16:27:37</td>\n",
       "      <td>2018-01-12 21:00:24</td>\n",
       "      <td>1 days 04:32:47</td>\n",
       "    </tr>\n",
       "    <tr>\n",
       "      <th>31</th>\n",
       "      <td>28247</td>\n",
       "      <td>registration</td>\n",
       "      <td>2018-01-12 10:01:12</td>\n",
       "      <td>2018-01-18 18:32:05</td>\n",
       "      <td>6 days 08:30:53</td>\n",
       "    </tr>\n",
       "  </tbody>\n",
       "</table>\n",
       "</div>"
      ],
      "text/plain": [
       "    user_id    event_type   registration_time       purchase_time  \\\n",
       "2     27884  registration 2018-01-04 11:50:43 2018-01-08 19:37:34   \n",
       "20    28090  registration 2018-01-09 19:31:24 2018-01-15 23:42:55   \n",
       "25    28182  registration 2018-01-11 10:12:20 2018-01-12 02:46:01   \n",
       "27    28207  registration 2018-01-11 16:27:37 2018-01-12 21:00:24   \n",
       "31    28247  registration 2018-01-12 10:01:12 2018-01-18 18:32:05   \n",
       "\n",
       "          time_dif  \n",
       "2  4 days 07:46:51  \n",
       "20 6 days 04:11:31  \n",
       "25 0 days 16:33:41  \n",
       "27 1 days 04:32:47  \n",
       "31 6 days 08:30:53  "
      ]
     },
     "metadata": {},
     "output_type": "display_data"
    },
    {
     "name": "stdout",
     "output_type": "stream",
     "text": [
      "Таблица для уровня medium: Число строк -    969\n"
     ]
    },
    {
     "data": {
      "text/html": [
       "<div>\n",
       "<style scoped>\n",
       "    .dataframe tbody tr th:only-of-type {\n",
       "        vertical-align: middle;\n",
       "    }\n",
       "\n",
       "    .dataframe tbody tr th {\n",
       "        vertical-align: top;\n",
       "    }\n",
       "\n",
       "    .dataframe thead th {\n",
       "        text-align: right;\n",
       "    }\n",
       "</style>\n",
       "<table border=\"1\" class=\"dataframe\">\n",
       "  <thead>\n",
       "    <tr style=\"text-align: right;\">\n",
       "      <th></th>\n",
       "      <th>user_id</th>\n",
       "      <th>event_type</th>\n",
       "      <th>registration_time</th>\n",
       "      <th>purchase_time</th>\n",
       "      <th>time_dif</th>\n",
       "    </tr>\n",
       "  </thead>\n",
       "  <tbody>\n",
       "    <tr>\n",
       "      <th>8</th>\n",
       "      <td>27973</td>\n",
       "      <td>registration</td>\n",
       "      <td>2018-01-06 22:01:44</td>\n",
       "      <td>2018-01-13 21:50:00</td>\n",
       "      <td>6 days 23:48:16</td>\n",
       "    </tr>\n",
       "    <tr>\n",
       "      <th>10</th>\n",
       "      <td>27981</td>\n",
       "      <td>registration</td>\n",
       "      <td>2018-01-07 08:09:09</td>\n",
       "      <td>2018-01-07 23:20:25</td>\n",
       "      <td>0 days 15:11:16</td>\n",
       "    </tr>\n",
       "    <tr>\n",
       "      <th>13</th>\n",
       "      <td>28010</td>\n",
       "      <td>registration</td>\n",
       "      <td>2018-01-07 22:19:23</td>\n",
       "      <td>2018-01-10 05:32:47</td>\n",
       "      <td>2 days 07:13:24</td>\n",
       "    </tr>\n",
       "    <tr>\n",
       "      <th>15</th>\n",
       "      <td>28020</td>\n",
       "      <td>registration</td>\n",
       "      <td>2018-01-08 10:30:32</td>\n",
       "      <td>2018-01-11 21:43:03</td>\n",
       "      <td>3 days 11:12:31</td>\n",
       "    </tr>\n",
       "    <tr>\n",
       "      <th>16</th>\n",
       "      <td>28026</td>\n",
       "      <td>registration</td>\n",
       "      <td>2018-01-08 13:46:31</td>\n",
       "      <td>2018-01-09 20:51:27</td>\n",
       "      <td>1 days 07:04:56</td>\n",
       "    </tr>\n",
       "  </tbody>\n",
       "</table>\n",
       "</div>"
      ],
      "text/plain": [
       "    user_id    event_type   registration_time       purchase_time  \\\n",
       "8     27973  registration 2018-01-06 22:01:44 2018-01-13 21:50:00   \n",
       "10    27981  registration 2018-01-07 08:09:09 2018-01-07 23:20:25   \n",
       "13    28010  registration 2018-01-07 22:19:23 2018-01-10 05:32:47   \n",
       "15    28020  registration 2018-01-08 10:30:32 2018-01-11 21:43:03   \n",
       "16    28026  registration 2018-01-08 13:46:31 2018-01-09 20:51:27   \n",
       "\n",
       "          time_dif  \n",
       "8  6 days 23:48:16  \n",
       "10 0 days 15:11:16  \n",
       "13 2 days 07:13:24  \n",
       "15 3 days 11:12:31  \n",
       "16 1 days 07:04:56  "
      ]
     },
     "metadata": {},
     "output_type": "display_data"
    },
    {
     "name": "stdout",
     "output_type": "stream",
     "text": [
      "Таблица для уровня hard:   Число строк -    442\n"
     ]
    },
    {
     "data": {
      "text/html": [
       "<div>\n",
       "<style scoped>\n",
       "    .dataframe tbody tr th:only-of-type {\n",
       "        vertical-align: middle;\n",
       "    }\n",
       "\n",
       "    .dataframe tbody tr th {\n",
       "        vertical-align: top;\n",
       "    }\n",
       "\n",
       "    .dataframe thead th {\n",
       "        text-align: right;\n",
       "    }\n",
       "</style>\n",
       "<table border=\"1\" class=\"dataframe\">\n",
       "  <thead>\n",
       "    <tr style=\"text-align: right;\">\n",
       "      <th></th>\n",
       "      <th>user_id</th>\n",
       "      <th>event_type</th>\n",
       "      <th>registration_time</th>\n",
       "      <th>purchase_time</th>\n",
       "      <th>time_dif</th>\n",
       "    </tr>\n",
       "  </thead>\n",
       "  <tbody>\n",
       "    <tr>\n",
       "      <th>0</th>\n",
       "      <td>27845</td>\n",
       "      <td>registration</td>\n",
       "      <td>2018-01-02 01:35:56</td>\n",
       "      <td>2018-01-03 18:53:43</td>\n",
       "      <td>1 days 17:17:47</td>\n",
       "    </tr>\n",
       "    <tr>\n",
       "      <th>1</th>\n",
       "      <td>27865</td>\n",
       "      <td>registration</td>\n",
       "      <td>2018-01-03 11:14:57</td>\n",
       "      <td>2018-01-04 14:46:10</td>\n",
       "      <td>1 days 03:31:13</td>\n",
       "    </tr>\n",
       "    <tr>\n",
       "      <th>3</th>\n",
       "      <td>27910</td>\n",
       "      <td>registration</td>\n",
       "      <td>2018-01-05 10:45:33</td>\n",
       "      <td>2018-01-07 12:11:34</td>\n",
       "      <td>2 days 01:26:01</td>\n",
       "    </tr>\n",
       "    <tr>\n",
       "      <th>4</th>\n",
       "      <td>27911</td>\n",
       "      <td>registration</td>\n",
       "      <td>2018-01-05 10:48:24</td>\n",
       "      <td>2018-01-07 08:19:12</td>\n",
       "      <td>1 days 21:30:48</td>\n",
       "    </tr>\n",
       "    <tr>\n",
       "      <th>5</th>\n",
       "      <td>27940</td>\n",
       "      <td>registration</td>\n",
       "      <td>2018-01-05 23:41:24</td>\n",
       "      <td>2018-01-07 13:16:41</td>\n",
       "      <td>1 days 13:35:17</td>\n",
       "    </tr>\n",
       "  </tbody>\n",
       "</table>\n",
       "</div>"
      ],
      "text/plain": [
       "   user_id    event_type   registration_time       purchase_time  \\\n",
       "0    27845  registration 2018-01-02 01:35:56 2018-01-03 18:53:43   \n",
       "1    27865  registration 2018-01-03 11:14:57 2018-01-04 14:46:10   \n",
       "3    27910  registration 2018-01-05 10:45:33 2018-01-07 12:11:34   \n",
       "4    27911  registration 2018-01-05 10:48:24 2018-01-07 08:19:12   \n",
       "5    27940  registration 2018-01-05 23:41:24 2018-01-07 13:16:41   \n",
       "\n",
       "         time_dif  \n",
       "0 1 days 17:17:47  \n",
       "1 1 days 03:31:13  \n",
       "3 2 days 01:26:01  \n",
       "4 1 days 21:30:48  \n",
       "5 1 days 13:35:17  "
      ]
     },
     "metadata": {},
     "output_type": "display_data"
    }
   ],
   "source": [
    "events_registration_purchase_easy=events_registration_purchase[events_registration_purchase['user_id'].isin(\n",
    "    easy_level['user_id'])]\n",
    "print(\"Таблица для уровня easy:\", \"  Число строк -   \", events_registration_purchase_easy.shape[0])\n",
    "display(events_registration_purchase_easy.head())\n",
    "events_registration_purchase_medium=events_registration_purchase[events_registration_purchase['user_id'].isin(\n",
    "    medium_level['user_id'])]\n",
    "print(\"Таблица для уровня medium:\", \"Число строк -   \", events_registration_purchase_medium.shape[0])\n",
    "display( events_registration_purchase_medium.head())\n",
    "events_registration_purchase_hard=events_registration_purchase[events_registration_purchase['user_id'].isin(\n",
    "    hard_level['user_id'])]\n",
    "print(\"Таблица для уровня hard:\", \"  Число строк -   \", events_registration_purchase_hard.shape[0])\n",
    "display(events_registration_purchase_hard.head())"
   ]
  },
  {
   "cell_type": "markdown",
   "metadata": {},
   "source": [
    "##### Посчитаем среднее и медианное время между регистрацией и оплатой для пользователей с разным selected_level"
   ]
  },
  {
   "cell_type": "code",
   "execution_count": 139,
   "metadata": {},
   "outputs": [
    {
     "name": "stdout",
     "output_type": "stream",
     "text": [
      "Время между регистрацией и оплатой:       среднее                           медианное\n",
      "   для выбравших уровень easy:            3 days 22:10:23.211640211         3 days 11:00:23\n",
      "   для выбравших уровень medium:          4 days 06:12:06.576883384         4 days 03:35:26\n",
      "   для выбравших уровень hard:            3 days 14:55:19.257918552         3 days 10:10:04.500000\n"
     ]
    }
   ],
   "source": [
    "time_diff_easy_mean=events_registration_purchase_easy['time_dif'].mean() \n",
    "time_diff_easy_median=events_registration_purchase_easy['time_dif'].median() \n",
    "#print(events_registration_purchase_easy['time_dif'].describe())\n",
    "time_diff_medium_mean=events_registration_purchase_medium['time_dif'].mean() \n",
    "time_diff_medium_median=events_registration_purchase_medium['time_dif'].median() \n",
    "#print(events_registration_purchase_medium['time_dif'].describe())\n",
    "time_diff_hard_mean=events_registration_purchase_hard['time_dif'].mean() \n",
    "time_diff_hard_median=events_registration_purchase_hard['time_dif'].median()\n",
    "#print(events_registration_purchase_hard['time_dif'].describe())\n",
    "print(\"Время между регистрацией и оплатой:       среднее                           медианное\")\n",
    "print('   для выбравших уровень easy:           ', time_diff_easy_mean, '       ', time_diff_easy_median)\n",
    "print('   для выбравших уровень medium:         ', time_diff_medium_mean, '       ', time_diff_medium_median)\n",
    "print('   для выбравших уровень hard:           ', time_diff_hard_mean, '       ', time_diff_hard_median)"
   ]
  },
  {
   "cell_type": "markdown",
   "metadata": {},
   "source": [
    "**ВЫВОД 2:** Чем сложнее выбранный уровень (selected_level), тем более вероятен факт оплаты.\n",
    "Временной промежуток между регистрацией и оплатой у групп пользователей с разным уровнем сложности различается. При этом зависимость нелинейная. Наибольшее время между регистрацией и полатой проходит у групп с уровнем medium. Следует отметить что:\n",
    "- медианное время меньше среднего во всех группах;\n",
    "- у групп easy и hard медианное время практически совпадает."
   ]
  },
  {
   "cell_type": "markdown",
   "metadata": {},
   "source": [
    "### ПОДЫТОЖИМ ВЫВОДЫ.\n",
    "\n",
    "**Вывод 1:** Чем сложнее выбранный уровень (selected_level), тем более вероятен факт оплаты.\n",
    "\n",
    "**Вывод 2:** Чем сложнее выбранный уровень (selected_level), тем более вероятен факт оплаты.\n",
    "Временной промежуток между регистрацией и оплатой у групп пользователей с разным уровнем сложности различается. При этом зависимость нелинейная. Наибольшее время между регистрацией и полатой проходит у групп с уровнем medium. Следует отметить что:\n",
    "- медианное время меньше среднего во всех группах;\n",
    "- у групп easy и hard медианное время практически совпадает."
   ]
  }
 ],
 "metadata": {
  "kernelspec": {
   "display_name": "Python 3.9.10 64-bit",
   "language": "python",
   "name": "python3"
  },
  "language_info": {
   "codemirror_mode": {
    "name": "ipython",
    "version": 3
   },
   "file_extension": ".py",
   "mimetype": "text/x-python",
   "name": "python",
   "nbconvert_exporter": "python",
   "pygments_lexer": "ipython3",
   "version": "3.9.10"
  },
  "orig_nbformat": 4,
  "vscode": {
   "interpreter": {
    "hash": "2f4fcd523f80529f0ac6b5b8022f4090e81831c04e4bb610e477836c65ea1efb"
   }
  }
 },
 "nbformat": 4,
 "nbformat_minor": 2
}
