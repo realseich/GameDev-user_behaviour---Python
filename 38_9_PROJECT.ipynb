{
 "cells": [
  {
   "cell_type": "markdown",
   "metadata": {},
   "source": [
    "## 38.9 PROJECT. Исследование поведения пользователей\n",
    "\n",
    "**Постановка задачи**\n",
    "Провести анализ поведения пользователей мобильной игры Quiz Freeze.\n",
    "Необходимо проверить:\n",
    "- есть ли зависимость между выбранным уровнем сложности и вероятностью оплаты;\n",
    "- различается ли временной промежуток между регистрацией и оплатой у групп пользователей с разным уровнем сложности.\n",
    "Выполнять задание необходимо на основе данных пользователей, которые зарегистрировались в 2018 году (с 1 января по 31 декабря 2018 года включительно).\n",
    "\n",
    "**Исходные данные**\n",
    "Два файла - таблицы в формате csv\n",
    "\n",
    "**Обнаруженные несоотетствия**\n",
    "В одной из таблиц были события с некоррекнтой датой. Такие события были удалены в ходе предобработки данных."
   ]
  },
  {
   "cell_type": "markdown",
   "metadata": {},
   "source": [
    "#### Импортируем PANDAS и исходные данные."
   ]
  },
  {
   "cell_type": "code",
   "execution_count": 2,
   "metadata": {},
   "outputs": [],
   "source": [
    "import pandas as pd\n",
    "events_initial = pd.read_csv('C:/New_life/DataAnalytics/Python/38_event_purchase/7_4_Events.csv', sep=',')\n",
    "events = events_initial.copy()\n",
    "purchase_initial = pd.read_csv('C:/New_life/DataAnalytics/Python/38_event_purchase/purchase.csv', sep=',')\n",
    "purchase = purchase_initial.copy()"
   ]
  },
  {
   "cell_type": "markdown",
   "metadata": {},
   "source": [
    "#### ПРЕДОБРАБОТКА ДАННЫХ\n",
    "1) Убрираем в таблицах events строки с некорректными датой/временем. Переводим дату/время в формат datetime.\n",
    "    При попытке перевести данные колонки start_time в таблице events в формат datetime были обнаружены несколько некорректных значений даты-времени. С учетом того, что таких значений крайне мало, а также что они явно не относятся к 2018 году, строки, содержащие такие значения были удалены.\n",
    "2) Оставляем в таблицах только события пользоваетелй с регистрацией в 2018 году"
   ]
  },
  {
   "cell_type": "markdown",
   "metadata": {},
   "source": [
    "Убрираем в таблице events строки с некорректными датами."
   ]
  },
  {
   "cell_type": "code",
   "execution_count": 3,
   "metadata": {},
   "outputs": [
    {
     "name": "stdout",
     "output_type": "stream",
     "text": [
      "Посмотрим на исходную таблицу events:\n",
      "       id       event_type selected_level           start_time  tutorial_id  \\\n",
      "0  28903     registration            NaN  2016-05-11T23:40:55          NaN   \n",
      "1  28904     registration            NaN  2016-05-11T23:49:58          NaN   \n",
      "2  28905     registration            NaN  2016-05-12T00:53:07          NaN   \n",
      "3  28906   tutorial_start            NaN  2016-05-12T01:32:20      17562.0   \n",
      "4  28907  tutorial_finish            NaN  2016-05-12T01:34:53      17562.0   \n",
      "\n",
      "   user_id  \n",
      "0    12583  \n",
      "1    12584  \n",
      "2    12585  \n",
      "3    12585  \n",
      "4    12585  \n",
      "\n",
      "Cобытия с некорректной датой/временем:\n",
      "           id      event_type selected_level           start_time  tutorial_id  \\\n",
      "10981  39884    registration            NaN       20162015-09-18          NaN   \n",
      "19423  48326  tutorial_start            NaN  2017-02-29 00:49:14      22840.0   \n",
      "19424  48327    level_choice         medium  2017-02-29 02:23:01          NaN   \n",
      "19425  48328     pack_choice            NaN  2017-02-29 02:27:59          NaN   \n",
      "19426  48329  tutorial_start            NaN  2017-02-29 02:58:03      22841.0   \n",
      "\n",
      "       user_id wrong_start_time  \n",
      "10981    15879  wrong date time  \n",
      "19423    18407  wrong date time  \n",
      "19424    18396  wrong date time  \n",
      "19425    18396  wrong date time  \n",
      "19426    18403  wrong date time  \n",
      "\n",
      "Cколько событий с некорректной датой/временем? - 133\n",
      "Cколько событий всего? - 252334\n"
     ]
    }
   ],
   "source": [
    "print(\"Посмотрим на исходную таблицу events:\\n\", events.head())    # Формат колонки с временем событий - 2016-05-11T23:40:55\n",
    "def remove_t(start_time):   # функция удаления буквы \"Т\", разделяющей дату и время в исходных данных\n",
    "    good_time=start_time.replace('T',' ')\n",
    "    return good_time\n",
    "events['start_time']=events['start_time'].apply(remove_t)\n",
    "\n",
    "# При попытке перевести колонку в формат datetime выдавались ошибки, связанные с некорректным значением даты/времени\n",
    "def find_wrong(start_time):     # функция определения неверных даты-времени (недостаток цифр или дата - 29 февраля \n",
    "                                # невискостного года)\n",
    "    if len(start_time) != 19:\n",
    "        return 'wrong date time' \n",
    "    elif start_time[5:7] == '02' and int(start_time[8:10]) > 28:\n",
    "        if int(start_time[:4])%4 != 0:\n",
    "            return 'wrong date time'\n",
    "        elif int(start_time[:3])%100 == 0 and int(start_time[:3])%400 != 0:\n",
    "            return 'wrong date time'\n",
    "\n",
    "events['wrong_start_time']=events['start_time'].apply(find_wrong)   # добавляем колонку-флаг некорректности даты-времени\n",
    "print(\"\\nCобытия с некорректной датой/временем:\\n\", events[events['wrong_start_time'] == 'wrong date time'].head())\n",
    "print(\"\\nCколько событий с некорректной датой/временем? -\", events[events['wrong_start_time'] == 'wrong date time'].shape[0])\n",
    "print(\"Cколько событий всего? -\", events.shape[0])\n",
    "# Можно удалить событися без нарушения релевантности данных.\n",
    "events=events[events['wrong_start_time'] != 'wrong date time'] \n",
    "events.drop(labels='wrong_start_time',axis=1, inplace=True)"
   ]
  },
  {
   "cell_type": "markdown",
   "metadata": {},
   "source": [
    "Переводим колонку start_time в events в datetime формат "
   ]
  },
  {
   "cell_type": "code",
   "execution_count": 4,
   "metadata": {},
   "outputs": [
    {
     "name": "stdout",
     "output_type": "stream",
     "text": [
      "Обработанная таблица  events:\n",
      "       id       event_type selected_level          start_time  tutorial_id  \\\n",
      "0  28903     registration            NaN 2016-05-11 23:40:55          NaN   \n",
      "1  28904     registration            NaN 2016-05-11 23:49:58          NaN   \n",
      "2  28905     registration            NaN 2016-05-12 00:53:07          NaN   \n",
      "3  28906   tutorial_start            NaN 2016-05-12 01:32:20      17562.0   \n",
      "4  28907  tutorial_finish            NaN 2016-05-12 01:34:53      17562.0   \n",
      "\n",
      "   user_id  \n",
      "0    12583  \n",
      "1    12584  \n",
      "2    12585  \n",
      "3    12585  \n",
      "4    12585  \n"
     ]
    }
   ],
   "source": [
    "events['start_time']=pd.to_datetime(events['start_time'])\n",
    "print(\"Обработанная таблица  events:\\n\", events.head())"
   ]
  },
  {
   "cell_type": "markdown",
   "metadata": {},
   "source": [
    "Оставляем в таблице events только события пользоваетелй с регистрацией в 2018 году -> новая таблица events_users_reg2018"
   ]
  },
  {
   "cell_type": "code",
   "execution_count": 5,
   "metadata": {},
   "outputs": [
    {
     "name": "stdout",
     "output_type": "stream",
     "text": [
      "   user_id     id       event_type selected_level          start_time  \\\n",
      "0    27832  80308     registration            NaN 2018-01-01 03:48:40   \n",
      "1    27833  80309     registration            NaN 2018-01-01 04:07:25   \n",
      "2    27833  80320   tutorial_start            NaN 2018-01-01 17:47:40   \n",
      "3    27833  80321  tutorial_finish            NaN 2018-01-01 17:50:08   \n",
      "4    27834  80310     registration            NaN 2018-01-01 08:35:10   \n",
      "\n",
      "   tutorial_id  \n",
      "0          NaN  \n",
      "1          NaN  \n",
      "2      31508.0  \n",
      "3      31508.0  \n",
      "4          NaN  \n"
     ]
    }
   ],
   "source": [
    "users_reg2018=events[(events['start_time'].dt.year == 2018) & (events['event_type'] == \n",
    "    'registration')]['user_id'].drop_duplicates()   # перечень пользователей с регстрацией в 2018 году\n",
    "users_reg2018=pd.DataFrame(data=users_reg2018)   \n",
    "events_user_reg2018=users_reg2018.merge(events,how='left',on='user_id')\n",
    "print(events_user_reg2018.head())"
   ]
  },
  {
   "cell_type": "markdown",
   "metadata": {},
   "source": [
    "Переводим колонку event_datetime в purchase в datetime формат "
   ]
  },
  {
   "cell_type": "code",
   "execution_count": 6,
   "metadata": {},
   "outputs": [
    {
     "name": "stdout",
     "output_type": "stream",
     "text": [
      "Посмотрим на исходную таблицу purchase:\n",
      "       id  user_id       event_datetime  amount\n",
      "0  15674    12584  2016-05-12T10:34:16     100\n",
      "1  15675    12985  2016-05-13T08:25:56      50\n",
      "2  15676    12828  2016-05-13T16:33:46      50\n",
      "3  15677    12598  2016-05-14T01:09:37     150\n",
      "4  15678    13037  2016-05-14T01:24:46     100\n",
      "Обработанная таблица  purchase:\n",
      "       id  user_id      event_datetime  amount\n",
      "0  15674    12584 2016-05-12 10:34:16     100\n",
      "1  15675    12985 2016-05-13 08:25:56      50\n",
      "2  15676    12828 2016-05-13 16:33:46      50\n",
      "3  15677    12598 2016-05-14 01:09:37     150\n",
      "4  15678    13037 2016-05-14 01:24:46     100\n"
     ]
    }
   ],
   "source": [
    "print(\"Посмотрим на исходную таблицу purchase:\\n\", purchase.head())   \n",
    "purchase['event_datetime']=purchase['event_datetime'].apply(remove_t)\n",
    "purchase['event_datetime']=pd.to_datetime(purchase['event_datetime'])\n",
    "print(\"Обработанная таблица  purchase:\\n\", purchase.head())"
   ]
  },
  {
   "cell_type": "markdown",
   "metadata": {},
   "source": [
    "Оставляем в таблице purchase только события пользоваетелй с регистрацией в 2018 году -> новая таблица purchase_user_reg2018"
   ]
  },
  {
   "cell_type": "code",
   "execution_count": 7,
   "metadata": {},
   "outputs": [
    {
     "name": "stdout",
     "output_type": "stream",
     "text": [
      "   user_id     id      event_datetime  amount\n",
      "0    27845  16845 2018-01-03 18:53:43     100\n",
      "1    27865  16846 2018-01-04 14:46:10     250\n",
      "2    27884  16854 2018-01-08 19:37:34     150\n",
      "3    27910  16849 2018-01-07 12:11:34     100\n",
      "4    27911  16848 2018-01-07 08:19:12      50\n"
     ]
    }
   ],
   "source": [
    "purchase_user_reg2018=users_reg2018.merge(purchase,how='inner',on='user_id')\n",
    "print(purchase_user_reg2018.head())"
   ]
  },
  {
   "cell_type": "markdown",
   "metadata": {},
   "source": [
    "#### ПРЕДВАРИТЕЛЬНЫЙ АНАЛИЗ ДАННЫХ"
   ]
  },
  {
   "cell_type": "code",
   "execution_count": 8,
   "metadata": {},
   "outputs": [
    {
     "name": "stdout",
     "output_type": "stream",
     "text": [
      "Варианты событий: ['registration' 'tutorial_start' 'tutorial_finish' 'level_choice'\n",
      " 'pack_choice']\n"
     ]
    }
   ],
   "source": [
    "print(\"Варианты событий:\", events['event_type'].unique())"
   ]
  },
  {
   "cell_type": "markdown",
   "metadata": {},
   "source": [
    "Выделим из таблицы events события типа level_choice"
   ]
  },
  {
   "cell_type": "code",
   "execution_count": 9,
   "metadata": {},
   "outputs": [
    {
     "name": "stdout",
     "output_type": "stream",
     "text": [
      "events с событием level_choice:\n",
      "     user_id     id    event_type selected_level          start_time  \\\n",
      "10    27835  80327  level_choice         medium 2018-01-01 20:37:22   \n",
      "21    27839  80331  level_choice           hard 2018-01-01 22:37:50   \n",
      "25    27840  80344  level_choice         medium 2018-01-02 05:18:42   \n",
      "32    27842  80353  level_choice           easy 2018-01-02 08:46:03   \n",
      "39    27843  80365  level_choice         medium 2018-01-02 14:09:58   \n",
      "\n",
      "    tutorial_id  \n",
      "10          NaN  \n",
      "21          NaN  \n",
      "25          NaN  \n",
      "32          NaN  \n",
      "39          NaN  \n",
      "\n",
      "Все пользователи выполняли действие level_choice не более одного раза?    True\n"
     ]
    }
   ],
   "source": [
    "events_selected_level=events_user_reg2018[events_user_reg2018['event_type'] == 'level_choice']   \n",
    "    #events с событием level_choice\n",
    "# убедимся что все пользователи выполняли действие level_choice не более одного раза\n",
    "print(\"events с событием level_choice:\\n\", events_selected_level.head())\n",
    "print(\"\\nВсе пользователи выполняли действие level_choice не более одного раза?   \", \n",
    "    events_selected_level.shape[0] == events_selected_level['user_id'].nunique())\n"
   ]
  },
  {
   "cell_type": "markdown",
   "metadata": {},
   "source": [
    "Убедимся что все пользователи совершали оплату не более одного раза"
   ]
  },
  {
   "cell_type": "code",
   "execution_count": 10,
   "metadata": {},
   "outputs": [
    {
     "name": "stdout",
     "output_type": "stream",
     "text": [
      "Все пользователи совершали оплату не более одного раза:    True\n"
     ]
    }
   ],
   "source": [
    "print(\"Все пользователи совершали оплату не более одного раза:   \", \n",
    "    purchase_user_reg2018.shape[0] == purchase_user_reg2018['user_id'].nunique())"
   ]
  },
  {
   "cell_type": "markdown",
   "metadata": {},
   "source": [
    "Посмотрим сколько пользователей совершили level_choice, сколько пользователей сделали оплаты и убедимся что все пользователи, сделавшие оплату, совершили level_choice "
   ]
  },
  {
   "cell_type": "code",
   "execution_count": 11,
   "metadata": {},
   "outputs": [
    {
     "name": "stdout",
     "output_type": "stream",
     "text": [
      "Сколько пользователей совершили level_choice? - 8342\n",
      "Сколько пользователей сделали оплату? - 1600\n",
      "Все пользователи, сделавшие оплату, совершили level_choice:    True\n"
     ]
    }
   ],
   "source": [
    "print(\"Сколько пользователей совершили level_choice? -\", events_selected_level.shape[0])\n",
    "print(\"Сколько пользователей сделали оплату? -\", purchase_user_reg2018.shape[0])\n",
    "print(\"Все пользователи, сделавшие оплату, совершили level_choice:   \", \n",
    "    purchase_user_reg2018[purchase_user_reg2018['user_id'].isin(events_selected_level['user_id'])]['user_id'].shape[0]\n",
    "    ==\n",
    "    purchase_user_reg2018.shape[0])"
   ]
  },
  {
   "cell_type": "markdown",
   "metadata": {},
   "source": [
    "Объеденим таблицы с событиями и с оплатой в единую таблицу для пользователей, совершивших level_choice, и уберем лишние колонки"
   ]
  },
  {
   "cell_type": "code",
   "execution_count": 12,
   "metadata": {},
   "outputs": [
    {
     "name": "stdout",
     "output_type": "stream",
     "text": [
      "Объединенная таблица:\n",
      "    user_id    event_type selected_level   level_choice_time purchase_time\n",
      "0    27835  level_choice         medium 2018-01-01 20:37:22           NaT\n",
      "1    27839  level_choice           hard 2018-01-01 22:37:50           NaT\n",
      "2    27840  level_choice         medium 2018-01-02 05:18:42           NaT\n",
      "3    27842  level_choice           easy 2018-01-02 08:46:03           NaT\n",
      "4    27843  level_choice         medium 2018-01-02 14:09:58           NaT\n"
     ]
    }
   ],
   "source": [
    "events_selected_level_new=events_selected_level.rename(columns={'start_time':'level_choice_time'}).drop(\n",
    "    labels=['id','tutorial_id'],axis=1)\n",
    "purchase_user_reg2018_new=purchase_user_reg2018.rename(columns={'event_datetime':'purchase_time'}).drop(\n",
    "    labels=['id','amount'],axis=1)\n",
    "events_selected_level_purchase=events_selected_level_new.merge(purchase_user_reg2018_new, how='left', on='user_id')\n",
    "print(\"Объединенная таблица:\\n\", events_selected_level_purchase.head())"
   ]
  },
  {
   "cell_type": "markdown",
   "metadata": {},
   "source": [
    "#### ОПРЕДЕЛИМ, ЕСТЬ ЛИ ЗАВИСИМОСТЬ МЕЖДУ ВЫБРАННЫМ УРОВНЕМ СЛОЖНОСТИ И ВЕРОЯТНОСТЬЮ ОПЛАТЫ"
   ]
  },
  {
   "cell_type": "markdown",
   "metadata": {},
   "source": [
    "Разобъем объединенную таблицу на три таблицы по selected_level"
   ]
  },
  {
   "cell_type": "code",
   "execution_count": 13,
   "metadata": {},
   "outputs": [
    {
     "name": "stdout",
     "output_type": "stream",
     "text": [
      "Посмотрим, какие имеются selected_level и все ли варианты статистически значимы:\n",
      "medium    4645\n",
      "easy      2448\n",
      "hard      1249\n",
      "Name: selected_level, dtype: int64\n",
      "\n",
      "Таблица для уровня easy:\n",
      "     user_id    event_type selected_level   level_choice_time purchase_time\n",
      "3     27842  level_choice           easy 2018-01-02 08:46:03           NaT\n",
      "8     27849  level_choice           easy 2018-01-02 11:53:11           NaT\n",
      "10    27853  level_choice           easy 2018-01-03 00:39:54           NaT\n",
      "14    27859  level_choice           easy 2018-01-03 01:11:45           NaT\n",
      "17    27863  level_choice           easy 2018-01-03 09:31:00           NaT\n",
      "\n",
      "Таблица для уровня medium:\n",
      "    user_id    event_type selected_level   level_choice_time purchase_time\n",
      "0    27835  level_choice         medium 2018-01-01 20:37:22           NaT\n",
      "2    27840  level_choice         medium 2018-01-02 05:18:42           NaT\n",
      "4    27843  level_choice         medium 2018-01-02 14:09:58           NaT\n",
      "6    27846  level_choice         medium 2018-01-02 15:10:27           NaT\n",
      "7    27847  level_choice         medium 2018-01-02 18:09:02           NaT\n",
      "\n",
      "Таблица для уровня hard:\n",
      "     user_id    event_type selected_level   level_choice_time  \\\n",
      "1     27839  level_choice           hard 2018-01-01 22:37:50   \n",
      "5     27845  level_choice           hard 2018-01-02 06:19:18   \n",
      "18    27865  level_choice           hard 2018-01-04 05:56:32   \n",
      "26    27888  level_choice           hard 2018-01-04 19:41:29   \n",
      "31    27910  level_choice           hard 2018-01-05 11:59:50   \n",
      "\n",
      "         purchase_time  \n",
      "1                  NaT  \n",
      "5  2018-01-03 18:53:43  \n",
      "18 2018-01-04 14:46:10  \n",
      "26                 NaT  \n",
      "31 2018-01-07 12:11:34  \n"
     ]
    }
   ],
   "source": [
    "print(\"Посмотрим, какие имеются selected_level и все ли варианты статистически значимы:\")\n",
    "print(events_selected_level_purchase['selected_level'].value_counts())\n",
    "easy_level=events_selected_level_purchase[events_selected_level_purchase['selected_level'] == 'easy']\n",
    "medium_level=events_selected_level_purchase[events_selected_level_purchase['selected_level'] == 'medium']\n",
    "hard_level=events_selected_level_purchase[events_selected_level_purchase['selected_level'] == 'hard']\n",
    "print(\"\\nТаблица для уровня easy:\\n\", easy_level.head())\n",
    "print(\"\\nТаблица для уровня medium:\\n\", medium_level.head())\n",
    "print(\"\\nТаблица для уровня hard:\\n\", hard_level.head())"
   ]
  },
  {
   "cell_type": "markdown",
   "metadata": {},
   "source": [
    "Посчитаем долю оплат в группах с разным selected_level"
   ]
  },
  {
   "cell_type": "code",
   "execution_count": 14,
   "metadata": {},
   "outputs": [
    {
     "name": "stdout",
     "output_type": "stream",
     "text": [
      "Доля оплативших среди пользователей, выбравших уровень easy:      0.08\n",
      "Доля оплативших среди пользователей, выбравших уровень medium:    0.21\n",
      "Доля оплативших среди пользователей, выбравших уровень hard:      0.35\n"
     ]
    }
   ],
   "source": [
    "percent_purchase_easy=easy_level['purchase_time'].count() / easy_level['level_choice_time'].count() \n",
    "print(\"Доля оплативших среди пользователей, выбравших уровень easy:     \", round(percent_purchase_easy, 2))\n",
    "percent_purchase_medium=medium_level['purchase_time'].count() / medium_level['level_choice_time'].count() \n",
    "print(\"Доля оплативших среди пользователей, выбравших уровень medium:   \", round(percent_purchase_medium, 2))\n",
    "percent_purchase_hard=hard_level['purchase_time'].count() / hard_level['level_choice_time'].count() \n",
    "print(\"Доля оплативших среди пользователей, выбравших уровень hard:     \", round(percent_purchase_hard, 2))"
   ]
  },
  {
   "cell_type": "markdown",
   "metadata": {},
   "source": [
    "**ВЫВОД 1:**\n",
    "Чем сложнее выбранный уровень (selected_level), тем более вероятен факт оплаты."
   ]
  },
  {
   "cell_type": "markdown",
   "metadata": {},
   "source": [
    "#### ОПРЕДЕЛИМ, РАЗЛИЧАЕТСЯ ЛИ ВРЕМЕННОЙ ПРОМЕЖУТОК МЕЖДУ РЕГИСТРАЦИЕЙ И ОПЛАТОЙ<br> У ГРУПП ПОЛЬЗОВАТЕЛЕЙ С РАЗНЫМ УРОВНЕМ СЛОЖНОСТИ"
   ]
  },
  {
   "cell_type": "markdown",
   "metadata": {},
   "source": [
    "Оставим в таблице events только строки с событием registration"
   ]
  },
  {
   "cell_type": "code",
   "execution_count": 15,
   "metadata": {},
   "outputs": [
    {
     "name": "stdout",
     "output_type": "stream",
     "text": [
      "    user_id     id    event_type selected_level          start_time  \\\n",
      "0     27832  80308  registration            NaN 2018-01-01 03:48:40   \n",
      "1     27833  80309  registration            NaN 2018-01-01 04:07:25   \n",
      "4     27834  80310  registration            NaN 2018-01-01 08:35:10   \n",
      "7     27835  80311  registration            NaN 2018-01-01 11:54:47   \n",
      "12    27836  80312  registration            NaN 2018-01-01 13:28:07   \n",
      "\n",
      "    tutorial_id  \n",
      "0           NaN  \n",
      "1           NaN  \n",
      "4           NaN  \n",
      "7           NaN  \n",
      "12          NaN  \n"
     ]
    }
   ],
   "source": [
    "events_registration=events_user_reg2018[events_user_reg2018['event_type'] == 'registration']   \n",
    "    #events с событием registration\n",
    "print(events_registration.head())"
   ]
  },
  {
   "cell_type": "markdown",
   "metadata": {},
   "source": [
    "Объеденим таблицы с registration и с оплатой в единую таблицу, и уберем лишние колонки"
   ]
  },
  {
   "cell_type": "code",
   "execution_count": 16,
   "metadata": {},
   "outputs": [
    {
     "name": "stdout",
     "output_type": "stream",
     "text": [
      "   user_id    event_type   registration_time       purchase_time\n",
      "0    27845  registration 2018-01-02 01:35:56 2018-01-03 18:53:43\n",
      "1    27865  registration 2018-01-03 11:14:57 2018-01-04 14:46:10\n",
      "2    27884  registration 2018-01-04 11:50:43 2018-01-08 19:37:34\n",
      "3    27910  registration 2018-01-05 10:45:33 2018-01-07 12:11:34\n",
      "4    27911  registration 2018-01-05 10:48:24 2018-01-07 08:19:12\n"
     ]
    }
   ],
   "source": [
    "events_registration_new=events_registration.rename(columns={'start_time':'registration_time'}).drop(axis=1,\n",
    "    labels=['selected_level', 'id', 'tutorial_id'])\n",
    "events_registration_purchase=events_registration_new.merge(purchase_user_reg2018_new, how='right', on='user_id')\n",
    "print(events_registration_purchase.head())"
   ]
  },
  {
   "cell_type": "markdown",
   "metadata": {},
   "source": [
    "Посчитаем время, прошедшее с регистрации до оплаты"
   ]
  },
  {
   "cell_type": "code",
   "execution_count": 17,
   "metadata": {},
   "outputs": [
    {
     "name": "stdout",
     "output_type": "stream",
     "text": [
      "   user_id    event_type   registration_time       purchase_time  \\\n",
      "0    27845  registration 2018-01-02 01:35:56 2018-01-03 18:53:43   \n",
      "1    27865  registration 2018-01-03 11:14:57 2018-01-04 14:46:10   \n",
      "2    27884  registration 2018-01-04 11:50:43 2018-01-08 19:37:34   \n",
      "3    27910  registration 2018-01-05 10:45:33 2018-01-07 12:11:34   \n",
      "4    27911  registration 2018-01-05 10:48:24 2018-01-07 08:19:12   \n",
      "\n",
      "         time_dif  \n",
      "0 1 days 17:17:47  \n",
      "1 1 days 03:31:13  \n",
      "2 4 days 07:46:51  \n",
      "3 2 days 01:26:01  \n",
      "4 1 days 21:30:48  \n"
     ]
    }
   ],
   "source": [
    "events_registration_purchase['time_dif'] = events_registration_purchase['purchase_time']- events_registration_purchase[\n",
    "    'registration_time']\n",
    "print(events_registration_purchase.head())"
   ]
  },
  {
   "cell_type": "markdown",
   "metadata": {},
   "source": [
    "Разобьем полученную таблицу на три таблицы по selected_level и оценим статистическую значимость"
   ]
  },
  {
   "cell_type": "code",
   "execution_count": 18,
   "metadata": {},
   "outputs": [
    {
     "name": "stdout",
     "output_type": "stream",
     "text": [
      "\n",
      "Таблица для уровня easy: Число строк -    189 \n",
      "     user_id    event_type   registration_time       purchase_time  \\\n",
      "2     27884  registration 2018-01-04 11:50:43 2018-01-08 19:37:34   \n",
      "20    28090  registration 2018-01-09 19:31:24 2018-01-15 23:42:55   \n",
      "25    28182  registration 2018-01-11 10:12:20 2018-01-12 02:46:01   \n",
      "27    28207  registration 2018-01-11 16:27:37 2018-01-12 21:00:24   \n",
      "31    28247  registration 2018-01-12 10:01:12 2018-01-18 18:32:05   \n",
      "\n",
      "          time_dif  \n",
      "2  4 days 07:46:51  \n",
      "20 6 days 04:11:31  \n",
      "25 0 days 16:33:41  \n",
      "27 1 days 04:32:47  \n",
      "31 6 days 08:30:53  \n",
      "\n",
      "Таблица для уровня medium: Число строк -    969 \n",
      "     user_id    event_type   registration_time       purchase_time  \\\n",
      "8     27973  registration 2018-01-06 22:01:44 2018-01-13 21:50:00   \n",
      "10    27981  registration 2018-01-07 08:09:09 2018-01-07 23:20:25   \n",
      "13    28010  registration 2018-01-07 22:19:23 2018-01-10 05:32:47   \n",
      "15    28020  registration 2018-01-08 10:30:32 2018-01-11 21:43:03   \n",
      "16    28026  registration 2018-01-08 13:46:31 2018-01-09 20:51:27   \n",
      "\n",
      "          time_dif  \n",
      "8  6 days 23:48:16  \n",
      "10 0 days 15:11:16  \n",
      "13 2 days 07:13:24  \n",
      "15 3 days 11:12:31  \n",
      "16 1 days 07:04:56  \n",
      "\n",
      "Таблица для уровня hard: Число строк -    442 \n",
      "    user_id    event_type   registration_time       purchase_time  \\\n",
      "0    27845  registration 2018-01-02 01:35:56 2018-01-03 18:53:43   \n",
      "1    27865  registration 2018-01-03 11:14:57 2018-01-04 14:46:10   \n",
      "3    27910  registration 2018-01-05 10:45:33 2018-01-07 12:11:34   \n",
      "4    27911  registration 2018-01-05 10:48:24 2018-01-07 08:19:12   \n",
      "5    27940  registration 2018-01-05 23:41:24 2018-01-07 13:16:41   \n",
      "\n",
      "         time_dif  \n",
      "0 1 days 17:17:47  \n",
      "1 1 days 03:31:13  \n",
      "3 2 days 01:26:01  \n",
      "4 1 days 21:30:48  \n",
      "5 1 days 13:35:17  \n"
     ]
    }
   ],
   "source": [
    "events_registration_purchase_easy=events_registration_purchase[events_registration_purchase['user_id'].isin(\n",
    "    easy_level['user_id'])]\n",
    "print(\"\\nТаблица для уровня easy:\", \"Число строк -   \", events_registration_purchase_easy.shape[0], \"\\n\", \n",
    "      events_registration_purchase_easy.head())\n",
    "events_registration_purchase_medium=events_registration_purchase[events_registration_purchase['user_id'].isin(\n",
    "    medium_level['user_id'])]\n",
    "print(\"\\nТаблица для уровня medium:\", \"Число строк -   \", events_registration_purchase_medium.shape[0], \"\\n\", \n",
    "      events_registration_purchase_medium.head())\n",
    "events_registration_purchase_hard=events_registration_purchase[events_registration_purchase['user_id'].isin(\n",
    "    hard_level['user_id'])]\n",
    "print(\"\\nТаблица для уровня hard:\", \"Число строк -   \", events_registration_purchase_hard.shape[0], \"\\n\", \n",
    "      events_registration_purchase_hard.head())"
   ]
  },
  {
   "cell_type": "markdown",
   "metadata": {},
   "source": [
    "Посчитаем среднее и медианное время между регистрацией и оплатой для пользователей с разным selected_level"
   ]
  },
  {
   "cell_type": "code",
   "execution_count": 19,
   "metadata": {},
   "outputs": [
    {
     "name": "stdout",
     "output_type": "stream",
     "text": [
      "Время между регистрацией и оплатой:       среднее                           медианное\n",
      "   для выбравших уровень easy:            3 days 22:10:23.211640211         3 days 11:00:23\n",
      "   для выбравших уровень medium:          4 days 06:12:06.576883384         4 days 03:35:26\n",
      "   для выбравших уровень hard:            3 days 14:55:19.257918552         3 days 10:10:04.500000\n"
     ]
    }
   ],
   "source": [
    "time_diff_easy_mean=events_registration_purchase_easy['time_dif'].mean() \n",
    "time_diff_easy_median=events_registration_purchase_easy['time_dif'].median() \n",
    "#print(events_registration_purchase_easy['time_dif'].describe())\n",
    "time_diff_medium_mean=events_registration_purchase_medium['time_dif'].mean() \n",
    "time_diff_medium_median=events_registration_purchase_medium['time_dif'].median() \n",
    "#print(events_registration_purchase_medium['time_dif'].describe())\n",
    "time_diff_hard_mean=events_registration_purchase_hard['time_dif'].mean() \n",
    "time_diff_hard_median=events_registration_purchase_hard['time_dif'].median()\n",
    "#print(events_registration_purchase_hard['time_dif'].describe())\n",
    "print(\"Время между регистрацией и оплатой:       среднее                           медианное\")\n",
    "print('   для выбравших уровень easy:           ', time_diff_easy_mean, '       ', time_diff_easy_median)\n",
    "print('   для выбравших уровень medium:         ', time_diff_medium_mean, '       ', time_diff_medium_median)\n",
    "print('   для выбравших уровень hard:           ', time_diff_hard_mean, '       ', time_diff_hard_median)"
   ]
  },
  {
   "cell_type": "markdown",
   "metadata": {},
   "source": [
    "**ВЫВОД 2:** Чем сложнее выбранный уровень (selected_level), тем более вероятен факт оплаты.\n",
    "Временной промежуток между регистрацией и оплатой у групп пользователей с разным уровнем сложности различается. При этом зависимость нелинейная. Наибольшее время между регистрацией и полатой проходит у групп с уровнем medium. Следует отметить что:\n",
    "- медианное время меньше среднего во всех группах;\n",
    "- у групп easy и hard медианное время практически совпадает."
   ]
  },
  {
   "cell_type": "markdown",
   "metadata": {},
   "source": [
    "### ПОДЫТОЖИМ ВЫВОДЫ.\n",
    "\n",
    "**Вывод 1:** Чем сложнее выбранный уровень (selected_level), тем более вероятен факт оплаты.\n",
    "\n",
    "**Вывод 2:** Чем сложнее выбранный уровень (selected_level), тем более вероятен факт оплаты.\n",
    "Временной промежуток между регистрацией и оплатой у групп пользователей с разным уровнем сложности различается. При этом зависимость нелинейная. Наибольшее время между регистрацией и полатой проходит у групп с уровнем medium. Следует отметить что:\n",
    "- медианное время меньше среднего во всех группах;\n",
    "- у групп easy и hard медианное время практически совпадает."
   ]
  }
 ],
 "metadata": {
  "kernelspec": {
   "display_name": "Python 3.9.10 64-bit",
   "language": "python",
   "name": "python3"
  },
  "language_info": {
   "codemirror_mode": {
    "name": "ipython",
    "version": 3
   },
   "file_extension": ".py",
   "mimetype": "text/x-python",
   "name": "python",
   "nbconvert_exporter": "python",
   "pygments_lexer": "ipython3",
   "version": "3.9.10"
  },
  "orig_nbformat": 4,
  "vscode": {
   "interpreter": {
    "hash": "2f4fcd523f80529f0ac6b5b8022f4090e81831c04e4bb610e477836c65ea1efb"
   }
  }
 },
 "nbformat": 4,
 "nbformat_minor": 2
}
